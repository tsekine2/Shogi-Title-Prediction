{
  "nbformat": 4,
  "nbformat_minor": 0,
  "metadata": {
    "colab": {
      "name": "将棋タイトル予測.ipynb",
      "provenance": [],
      "collapsed_sections": [],
      "mount_file_id": "1gvU-8ac47dxQO9gOzh_KAfdWlC1a_RA1",
      "authorship_tag": "ABX9TyMDaZgJPrUZVuq7LEF2IoQL",
      "include_colab_link": true
    },
    "kernelspec": {
      "name": "python3",
      "display_name": "Python 3"
    }
  },
  "cells": [
    {
      "cell_type": "markdown",
      "metadata": {
        "id": "view-in-github",
        "colab_type": "text"
      },
      "source": [
        "<a href=\"https://colab.research.google.com/github/tsekine2/Shogi-Title-Prediction/blob/master/%E5%B0%86%E6%A3%8B%E3%82%BF%E3%82%A4%E3%83%88%E3%83%AB%E4%BA%88%E6%B8%AC.ipynb\" target=\"_parent\"><img src=\"https://colab.research.google.com/assets/colab-badge.svg\" alt=\"Open In Colab\"/></a>"
      ]
    },
    {
      "cell_type": "code",
      "metadata": {
        "id": "_dgLAfAcWchJ",
        "colab_type": "code",
        "outputId": "6b1196cc-51c2-477b-cdc6-f183afe56cce",
        "colab": {
          "base_uri": "https://localhost:8080/",
          "height": 266
        }
      },
      "source": [
        "'''ライブラリインポート'''\n",
        "import numpy as np\n",
        "import pandas as pd\n",
        "% matplotlib inline\n",
        "import matplotlib.pyplot as plt\n",
        "!pip install japanize-matplotlib\n",
        "import japanize_matplotlib\n",
        "import seaborn as sns\n",
        "sns.set(font='IPAexGothic')\n",
        "import lightgbm as lgb\n",
        "from lightgbm import LGBMRegressor"
      ],
      "execution_count": 1,
      "outputs": [
        {
          "output_type": "stream",
          "text": [
            "Collecting japanize-matplotlib\n",
            "\u001b[?25l  Downloading https://files.pythonhosted.org/packages/aa/c0/b75d434be51a8cc11d2e9b36f2d7f93a1bcf63bde24dc79a61d329d60b2a/japanize-matplotlib-1.0.5.tar.gz (4.1MB)\n",
            "\u001b[K     |████████████████████████████████| 4.1MB 4.8MB/s \n",
            "\u001b[?25hBuilding wheels for collected packages: japanize-matplotlib\n",
            "  Building wheel for japanize-matplotlib (setup.py) ... \u001b[?25l\u001b[?25hdone\n",
            "  Created wheel for japanize-matplotlib: filename=japanize_matplotlib-1.0.5-cp36-none-any.whl size=4118721 sha256=e353c16fde1eb32f576c56b7d2912f8ccdec41b941d9f58cc0941384fa78e91e\n",
            "  Stored in directory: /root/.cache/pip/wheels/6c/8a/08/4a784957da9f3c2b4839b4986be2fba2a481877318948be52c\n",
            "Successfully built japanize-matplotlib\n",
            "Installing collected packages: japanize-matplotlib\n",
            "Successfully installed japanize-matplotlib-1.0.5\n"
          ],
          "name": "stdout"
        },
        {
          "output_type": "stream",
          "text": [
            "/usr/local/lib/python3.6/dist-packages/japanize_matplotlib/__init__.py:13: MatplotlibDeprecationWarning: \n",
            "The createFontList function was deprecated in Matplotlib 3.2 and will be removed two minor releases later. Use FontManager.addfont instead.\n",
            "  font_list = font_manager.createFontList(font_files)\n",
            "/usr/local/lib/python3.6/dist-packages/statsmodels/tools/_testing.py:19: FutureWarning: pandas.util.testing is deprecated. Use the functions in the public API at pandas.testing instead.\n",
            "  import pandas.util.testing as tm\n"
          ],
          "name": "stderr"
        }
      ]
    },
    {
      "cell_type": "code",
      "metadata": {
        "id": "0xhA0OVEWzxp",
        "colab_type": "code",
        "outputId": "7ffc7f5a-0626-454a-eddc-25843fed3317",
        "colab": {
          "base_uri": "https://localhost:8080/",
          "height": 887
        }
      },
      "source": [
        "'''学習データ'''\n",
        "train_path = \"/content/drive/My Drive/Colab Notebooks/成果物/将棋タイトル/棋士解析(2017_2019) - train.tsv\"\n",
        "train = pd.read_csv(train_path, delimiter='\\t')\n",
        "train.head(len(train))"
      ],
      "execution_count": 2,
      "outputs": [
        {
          "output_type": "execute_result",
          "data": {
            "text/html": [
              "<div>\n",
              "<style scoped>\n",
              "    .dataframe tbody tr th:only-of-type {\n",
              "        vertical-align: middle;\n",
              "    }\n",
              "\n",
              "    .dataframe tbody tr th {\n",
              "        vertical-align: top;\n",
              "    }\n",
              "\n",
              "    .dataframe thead th {\n",
              "        text-align: right;\n",
              "    }\n",
              "</style>\n",
              "<table border=\"1\" class=\"dataframe\">\n",
              "  <thead>\n",
              "    <tr style=\"text-align: right;\">\n",
              "      <th></th>\n",
              "      <th>name</th>\n",
              "      <th>age</th>\n",
              "      <th>debut age</th>\n",
              "      <th>juni-sen</th>\n",
              "      <th>ryuo-sen</th>\n",
              "      <th>oui-league</th>\n",
              "      <th>osho-league</th>\n",
              "      <th>wins</th>\n",
              "      <th>games</th>\n",
              "      <th>champions</th>\n",
              "      <th>get_titles</th>\n",
              "      <th>titles</th>\n",
              "    </tr>\n",
              "  </thead>\n",
              "  <tbody>\n",
              "    <tr>\n",
              "      <th>0</th>\n",
              "      <td>豊島将之</td>\n",
              "      <td>29</td>\n",
              "      <td>16</td>\n",
              "      <td>15</td>\n",
              "      <td>15</td>\n",
              "      <td>3</td>\n",
              "      <td>3</td>\n",
              "      <td>118</td>\n",
              "      <td>175</td>\n",
              "      <td>1</td>\n",
              "      <td>4</td>\n",
              "      <td>7</td>\n",
              "    </tr>\n",
              "    <tr>\n",
              "      <th>1</th>\n",
              "      <td>渡辺明</td>\n",
              "      <td>35</td>\n",
              "      <td>15</td>\n",
              "      <td>14</td>\n",
              "      <td>15</td>\n",
              "      <td>1</td>\n",
              "      <td>3</td>\n",
              "      <td>102</td>\n",
              "      <td>154</td>\n",
              "      <td>2</td>\n",
              "      <td>6</td>\n",
              "      <td>7</td>\n",
              "    </tr>\n",
              "    <tr>\n",
              "      <th>2</th>\n",
              "      <td>永瀬拓矢</td>\n",
              "      <td>27</td>\n",
              "      <td>17</td>\n",
              "      <td>9</td>\n",
              "      <td>13</td>\n",
              "      <td>1</td>\n",
              "      <td>0</td>\n",
              "      <td>117</td>\n",
              "      <td>153</td>\n",
              "      <td>0</td>\n",
              "      <td>2</td>\n",
              "      <td>3</td>\n",
              "    </tr>\n",
              "    <tr>\n",
              "      <th>3</th>\n",
              "      <td>木村一基</td>\n",
              "      <td>46</td>\n",
              "      <td>23</td>\n",
              "      <td>13</td>\n",
              "      <td>13</td>\n",
              "      <td>3</td>\n",
              "      <td>0</td>\n",
              "      <td>65</td>\n",
              "      <td>117</td>\n",
              "      <td>0</td>\n",
              "      <td>1</td>\n",
              "      <td>1</td>\n",
              "    </tr>\n",
              "    <tr>\n",
              "      <th>4</th>\n",
              "      <td>羽生善治</td>\n",
              "      <td>49</td>\n",
              "      <td>15</td>\n",
              "      <td>15</td>\n",
              "      <td>15</td>\n",
              "      <td>3</td>\n",
              "      <td>1</td>\n",
              "      <td>90</td>\n",
              "      <td>155</td>\n",
              "      <td>1</td>\n",
              "      <td>2</td>\n",
              "      <td>6</td>\n",
              "    </tr>\n",
              "    <tr>\n",
              "      <th>5</th>\n",
              "      <td>谷川浩司</td>\n",
              "      <td>57</td>\n",
              "      <td>14</td>\n",
              "      <td>12</td>\n",
              "      <td>7</td>\n",
              "      <td>2</td>\n",
              "      <td>0</td>\n",
              "      <td>63</td>\n",
              "      <td>122</td>\n",
              "      <td>0</td>\n",
              "      <td>0</td>\n",
              "      <td>0</td>\n",
              "    </tr>\n",
              "    <tr>\n",
              "      <th>6</th>\n",
              "      <td>佐藤康光</td>\n",
              "      <td>50</td>\n",
              "      <td>17</td>\n",
              "      <td>15</td>\n",
              "      <td>14</td>\n",
              "      <td>0</td>\n",
              "      <td>0</td>\n",
              "      <td>50</td>\n",
              "      <td>101</td>\n",
              "      <td>0</td>\n",
              "      <td>0</td>\n",
              "      <td>0</td>\n",
              "    </tr>\n",
              "    <tr>\n",
              "      <th>7</th>\n",
              "      <td>森内俊之</td>\n",
              "      <td>49</td>\n",
              "      <td>16</td>\n",
              "      <td>0</td>\n",
              "      <td>12</td>\n",
              "      <td>0</td>\n",
              "      <td>0</td>\n",
              "      <td>21</td>\n",
              "      <td>58</td>\n",
              "      <td>0</td>\n",
              "      <td>0</td>\n",
              "      <td>0</td>\n",
              "    </tr>\n",
              "    <tr>\n",
              "      <th>8</th>\n",
              "      <td>丸山忠久</td>\n",
              "      <td>49</td>\n",
              "      <td>19</td>\n",
              "      <td>10</td>\n",
              "      <td>15</td>\n",
              "      <td>1</td>\n",
              "      <td>0</td>\n",
              "      <td>68</td>\n",
              "      <td>120</td>\n",
              "      <td>0</td>\n",
              "      <td>0</td>\n",
              "      <td>0</td>\n",
              "    </tr>\n",
              "    <tr>\n",
              "      <th>9</th>\n",
              "      <td>郷田真隆</td>\n",
              "      <td>49</td>\n",
              "      <td>19</td>\n",
              "      <td>12</td>\n",
              "      <td>14</td>\n",
              "      <td>0</td>\n",
              "      <td>2</td>\n",
              "      <td>63</td>\n",
              "      <td>122</td>\n",
              "      <td>0</td>\n",
              "      <td>0</td>\n",
              "      <td>0</td>\n",
              "    </tr>\n",
              "    <tr>\n",
              "      <th>10</th>\n",
              "      <td>屋敷伸之</td>\n",
              "      <td>48</td>\n",
              "      <td>16</td>\n",
              "      <td>13</td>\n",
              "      <td>15</td>\n",
              "      <td>0</td>\n",
              "      <td>0</td>\n",
              "      <td>34</td>\n",
              "      <td>90</td>\n",
              "      <td>0</td>\n",
              "      <td>0</td>\n",
              "      <td>0</td>\n",
              "    </tr>\n",
              "    <tr>\n",
              "      <th>11</th>\n",
              "      <td>深浦康市</td>\n",
              "      <td>48</td>\n",
              "      <td>19</td>\n",
              "      <td>14</td>\n",
              "      <td>14</td>\n",
              "      <td>0</td>\n",
              "      <td>1</td>\n",
              "      <td>61</td>\n",
              "      <td>115</td>\n",
              "      <td>1</td>\n",
              "      <td>0</td>\n",
              "      <td>0</td>\n",
              "    </tr>\n",
              "    <tr>\n",
              "      <th>12</th>\n",
              "      <td>久保利明</td>\n",
              "      <td>44</td>\n",
              "      <td>17</td>\n",
              "      <td>15</td>\n",
              "      <td>15</td>\n",
              "      <td>0</td>\n",
              "      <td>3</td>\n",
              "      <td>64</td>\n",
              "      <td>123</td>\n",
              "      <td>1</td>\n",
              "      <td>1</td>\n",
              "      <td>2</td>\n",
              "    </tr>\n",
              "    <tr>\n",
              "      <th>13</th>\n",
              "      <td>三浦弘行</td>\n",
              "      <td>46</td>\n",
              "      <td>18</td>\n",
              "      <td>15</td>\n",
              "      <td>14</td>\n",
              "      <td>0</td>\n",
              "      <td>1</td>\n",
              "      <td>63</td>\n",
              "      <td>116</td>\n",
              "      <td>0</td>\n",
              "      <td>0</td>\n",
              "      <td>0</td>\n",
              "    </tr>\n",
              "    <tr>\n",
              "      <th>14</th>\n",
              "      <td>佐藤天彦</td>\n",
              "      <td>32</td>\n",
              "      <td>18</td>\n",
              "      <td>15</td>\n",
              "      <td>13</td>\n",
              "      <td>1</td>\n",
              "      <td>1</td>\n",
              "      <td>60</td>\n",
              "      <td>115</td>\n",
              "      <td>1</td>\n",
              "      <td>2</td>\n",
              "      <td>3</td>\n",
              "    </tr>\n",
              "    <tr>\n",
              "      <th>15</th>\n",
              "      <td>行方尚史</td>\n",
              "      <td>46</td>\n",
              "      <td>19</td>\n",
              "      <td>13</td>\n",
              "      <td>10</td>\n",
              "      <td>0</td>\n",
              "      <td>0</td>\n",
              "      <td>57</td>\n",
              "      <td>107</td>\n",
              "      <td>0</td>\n",
              "      <td>0</td>\n",
              "      <td>0</td>\n",
              "    </tr>\n",
              "    <tr>\n",
              "      <th>16</th>\n",
              "      <td>山崎隆之</td>\n",
              "      <td>39</td>\n",
              "      <td>17</td>\n",
              "      <td>12</td>\n",
              "      <td>14</td>\n",
              "      <td>1</td>\n",
              "      <td>0</td>\n",
              "      <td>69</td>\n",
              "      <td>122</td>\n",
              "      <td>2</td>\n",
              "      <td>0</td>\n",
              "      <td>0</td>\n",
              "    </tr>\n",
              "    <tr>\n",
              "      <th>17</th>\n",
              "      <td>広瀬章人</td>\n",
              "      <td>33</td>\n",
              "      <td>18</td>\n",
              "      <td>15</td>\n",
              "      <td>14</td>\n",
              "      <td>1</td>\n",
              "      <td>2</td>\n",
              "      <td>92</td>\n",
              "      <td>153</td>\n",
              "      <td>0</td>\n",
              "      <td>1</td>\n",
              "      <td>4</td>\n",
              "    </tr>\n",
              "    <tr>\n",
              "      <th>18</th>\n",
              "      <td>阿久津主税</td>\n",
              "      <td>37</td>\n",
              "      <td>17</td>\n",
              "      <td>13</td>\n",
              "      <td>14</td>\n",
              "      <td>3</td>\n",
              "      <td>0</td>\n",
              "      <td>53</td>\n",
              "      <td>112</td>\n",
              "      <td>0</td>\n",
              "      <td>0</td>\n",
              "      <td>0</td>\n",
              "    </tr>\n",
              "    <tr>\n",
              "      <th>19</th>\n",
              "      <td>糸谷哲郎</td>\n",
              "      <td>31</td>\n",
              "      <td>17</td>\n",
              "      <td>14</td>\n",
              "      <td>15</td>\n",
              "      <td>0</td>\n",
              "      <td>3</td>\n",
              "      <td>61</td>\n",
              "      <td>114</td>\n",
              "      <td>0</td>\n",
              "      <td>0</td>\n",
              "      <td>0</td>\n",
              "    </tr>\n",
              "    <tr>\n",
              "      <th>20</th>\n",
              "      <td>松尾歩</td>\n",
              "      <td>40</td>\n",
              "      <td>19</td>\n",
              "      <td>12</td>\n",
              "      <td>15</td>\n",
              "      <td>0</td>\n",
              "      <td>0</td>\n",
              "      <td>60</td>\n",
              "      <td>117</td>\n",
              "      <td>0</td>\n",
              "      <td>0</td>\n",
              "      <td>0</td>\n",
              "    </tr>\n",
              "    <tr>\n",
              "      <th>21</th>\n",
              "      <td>稲葉陽</td>\n",
              "      <td>31</td>\n",
              "      <td>19</td>\n",
              "      <td>15</td>\n",
              "      <td>14</td>\n",
              "      <td>1</td>\n",
              "      <td>0</td>\n",
              "      <td>64</td>\n",
              "      <td>122</td>\n",
              "      <td>0</td>\n",
              "      <td>0</td>\n",
              "      <td>1</td>\n",
              "    </tr>\n",
              "    <tr>\n",
              "      <th>22</th>\n",
              "      <td>菅井竜也</td>\n",
              "      <td>27</td>\n",
              "      <td>17</td>\n",
              "      <td>12</td>\n",
              "      <td>6</td>\n",
              "      <td>3</td>\n",
              "      <td>0</td>\n",
              "      <td>90</td>\n",
              "      <td>143</td>\n",
              "      <td>0</td>\n",
              "      <td>1</td>\n",
              "      <td>2</td>\n",
              "    </tr>\n",
              "    <tr>\n",
              "      <th>23</th>\n",
              "      <td>斎藤慎太郎</td>\n",
              "      <td>26</td>\n",
              "      <td>18</td>\n",
              "      <td>12</td>\n",
              "      <td>9</td>\n",
              "      <td>0</td>\n",
              "      <td>1</td>\n",
              "      <td>86</td>\n",
              "      <td>139</td>\n",
              "      <td>0</td>\n",
              "      <td>1</td>\n",
              "      <td>3</td>\n",
              "    </tr>\n",
              "    <tr>\n",
              "      <th>24</th>\n",
              "      <td>中村太地</td>\n",
              "      <td>31</td>\n",
              "      <td>17</td>\n",
              "      <td>9</td>\n",
              "      <td>10</td>\n",
              "      <td>1</td>\n",
              "      <td>1</td>\n",
              "      <td>62</td>\n",
              "      <td>114</td>\n",
              "      <td>0</td>\n",
              "      <td>1</td>\n",
              "      <td>2</td>\n",
              "    </tr>\n",
              "    <tr>\n",
              "      <th>25</th>\n",
              "      <td>高見𣳾地</td>\n",
              "      <td>26</td>\n",
              "      <td>18</td>\n",
              "      <td>3</td>\n",
              "      <td>6</td>\n",
              "      <td>0</td>\n",
              "      <td>0</td>\n",
              "      <td>81</td>\n",
              "      <td>126</td>\n",
              "      <td>0</td>\n",
              "      <td>1</td>\n",
              "      <td>2</td>\n",
              "    </tr>\n",
              "    <tr>\n",
              "      <th>26</th>\n",
              "      <td>千田翔太</td>\n",
              "      <td>25</td>\n",
              "      <td>18</td>\n",
              "      <td>9</td>\n",
              "      <td>4</td>\n",
              "      <td>2</td>\n",
              "      <td>0</td>\n",
              "      <td>102</td>\n",
              "      <td>142</td>\n",
              "      <td>1</td>\n",
              "      <td>0</td>\n",
              "      <td>0</td>\n",
              "    </tr>\n",
              "    <tr>\n",
              "      <th>27</th>\n",
              "      <td>近藤誠也</td>\n",
              "      <td>23</td>\n",
              "      <td>19</td>\n",
              "      <td>7</td>\n",
              "      <td>2</td>\n",
              "      <td>0</td>\n",
              "      <td>0</td>\n",
              "      <td>99</td>\n",
              "      <td>144</td>\n",
              "      <td>0</td>\n",
              "      <td>0</td>\n",
              "      <td>0</td>\n",
              "    </tr>\n",
              "  </tbody>\n",
              "</table>\n",
              "</div>"
            ],
            "text/plain": [
              "     name  age  debut age  juni-sen  ...  games  champions  get_titles  titles\n",
              "0    豊島将之   29         16        15  ...    175          1           4       7\n",
              "1     渡辺明   35         15        14  ...    154          2           6       7\n",
              "2    永瀬拓矢   27         17         9  ...    153          0           2       3\n",
              "3    木村一基   46         23        13  ...    117          0           1       1\n",
              "4    羽生善治   49         15        15  ...    155          1           2       6\n",
              "5    谷川浩司   57         14        12  ...    122          0           0       0\n",
              "6    佐藤康光   50         17        15  ...    101          0           0       0\n",
              "7    森内俊之   49         16         0  ...     58          0           0       0\n",
              "8    丸山忠久   49         19        10  ...    120          0           0       0\n",
              "9    郷田真隆   49         19        12  ...    122          0           0       0\n",
              "10   屋敷伸之   48         16        13  ...     90          0           0       0\n",
              "11   深浦康市   48         19        14  ...    115          1           0       0\n",
              "12   久保利明   44         17        15  ...    123          1           1       2\n",
              "13   三浦弘行   46         18        15  ...    116          0           0       0\n",
              "14   佐藤天彦   32         18        15  ...    115          1           2       3\n",
              "15   行方尚史   46         19        13  ...    107          0           0       0\n",
              "16   山崎隆之   39         17        12  ...    122          2           0       0\n",
              "17   広瀬章人   33         18        15  ...    153          0           1       4\n",
              "18  阿久津主税   37         17        13  ...    112          0           0       0\n",
              "19   糸谷哲郎   31         17        14  ...    114          0           0       0\n",
              "20    松尾歩   40         19        12  ...    117          0           0       0\n",
              "21    稲葉陽   31         19        15  ...    122          0           0       1\n",
              "22   菅井竜也   27         17        12  ...    143          0           1       2\n",
              "23  斎藤慎太郎   26         18        12  ...    139          0           1       3\n",
              "24   中村太地   31         17         9  ...    114          0           1       2\n",
              "25   高見𣳾地   26         18         3  ...    126          0           1       2\n",
              "26   千田翔太   25         18         9  ...    142          1           0       0\n",
              "27   近藤誠也   23         19         7  ...    144          0           0       0\n",
              "\n",
              "[28 rows x 12 columns]"
            ]
          },
          "metadata": {
            "tags": []
          },
          "execution_count": 2
        }
      ]
    },
    {
      "cell_type": "code",
      "metadata": {
        "id": "0ipuPJ00c5UF",
        "colab_type": "code",
        "outputId": "569b7e95-150f-431f-d648-9174e56a77b5",
        "colab": {
          "base_uri": "https://localhost:8080/",
          "height": 1000
        }
      },
      "source": [
        "'''データ可視化'''\n",
        "train[train['get_titles'] > 0].plot.bar(x='name', figsize=(20,20), sharex=True, subplots=True, layout=(4,3))"
      ],
      "execution_count": 3,
      "outputs": [
        {
          "output_type": "execute_result",
          "data": {
            "text/plain": [
              "array([[<matplotlib.axes._subplots.AxesSubplot object at 0x7f64a9c64240>,\n",
              "        <matplotlib.axes._subplots.AxesSubplot object at 0x7f64a9c348d0>,\n",
              "        <matplotlib.axes._subplots.AxesSubplot object at 0x7f64a9beccc0>],\n",
              "       [<matplotlib.axes._subplots.AxesSubplot object at 0x7f64a9bac0f0>,\n",
              "        <matplotlib.axes._subplots.AxesSubplot object at 0x7f64a9b5c4e0>,\n",
              "        <matplotlib.axes._subplots.AxesSubplot object at 0x7f64a9b0e8d0>],\n",
              "       [<matplotlib.axes._subplots.AxesSubplot object at 0x7f64a9b40cc0>,\n",
              "        <matplotlib.axes._subplots.AxesSubplot object at 0x7f64a9afe0b8>,\n",
              "        <matplotlib.axes._subplots.AxesSubplot object at 0x7f64a9afe128>],\n",
              "       [<matplotlib.axes._subplots.AxesSubplot object at 0x7f64a9a618d0>,\n",
              "        <matplotlib.axes._subplots.AxesSubplot object at 0x7f64a9a15cc0>,\n",
              "        <matplotlib.axes._subplots.AxesSubplot object at 0x7f64a99d30f0>]],\n",
              "      dtype=object)"
            ]
          },
          "metadata": {
            "tags": []
          },
          "execution_count": 3
        },
        {
          "output_type": "display_data",
          "data": {
            "image/png": "[encoded data removed]",
            "text/plain": [
              "<Figure size 1440x1440 with 12 Axes>"
            ]
          },
          "metadata": {
            "tags": [],
            "needs_background": "light"
          }
        }
      ]
    },
    {
      "cell_type": "code",
      "metadata": {
        "id": "9ryQi6nx1yP3",
        "colab_type": "code",
        "outputId": "bcf7c7f9-81c3-4cc8-972d-9c562756ad2c",
        "colab": {
          "base_uri": "https://localhost:8080/",
          "height": 197
        }
      },
      "source": [
        "''' テストデータ'''\n",
        "test_path = \"/content/drive/My Drive/Colab Notebooks/成果物/将棋タイトル/棋士解析(2017_2019) - test.tsv\"\n",
        "test = pd.read_csv(test_path, delimiter='\\t')\n",
        "test.head(len(test))"
      ],
      "execution_count": 4,
      "outputs": [
        {
          "output_type": "execute_result",
          "data": {
            "text/html": [
              "<div>\n",
              "<style scoped>\n",
              "    .dataframe tbody tr th:only-of-type {\n",
              "        vertical-align: middle;\n",
              "    }\n",
              "\n",
              "    .dataframe tbody tr th {\n",
              "        vertical-align: top;\n",
              "    }\n",
              "\n",
              "    .dataframe thead th {\n",
              "        text-align: right;\n",
              "    }\n",
              "</style>\n",
              "<table border=\"1\" class=\"dataframe\">\n",
              "  <thead>\n",
              "    <tr style=\"text-align: right;\">\n",
              "      <th></th>\n",
              "      <th>name</th>\n",
              "      <th>age</th>\n",
              "      <th>debut age</th>\n",
              "      <th>juni-sen</th>\n",
              "      <th>ryuo-sen</th>\n",
              "      <th>oui-league</th>\n",
              "      <th>osho-league</th>\n",
              "      <th>wins</th>\n",
              "      <th>games</th>\n",
              "      <th>champions</th>\n",
              "    </tr>\n",
              "  </thead>\n",
              "  <tbody>\n",
              "    <tr>\n",
              "      <th>0</th>\n",
              "      <td>藤井聡太</td>\n",
              "      <td>17</td>\n",
              "      <td>14</td>\n",
              "      <td>5</td>\n",
              "      <td>3</td>\n",
              "      <td>0</td>\n",
              "      <td>1</td>\n",
              "      <td>158</td>\n",
              "      <td>190</td>\n",
              "      <td>3</td>\n",
              "    </tr>\n",
              "    <tr>\n",
              "      <th>1</th>\n",
              "      <td>佐々木勇気</td>\n",
              "      <td>25</td>\n",
              "      <td>16</td>\n",
              "      <td>6</td>\n",
              "      <td>9</td>\n",
              "      <td>1</td>\n",
              "      <td>0</td>\n",
              "      <td>73</td>\n",
              "      <td>115</td>\n",
              "      <td>0</td>\n",
              "    </tr>\n",
              "    <tr>\n",
              "      <th>2</th>\n",
              "      <td>増田康宏</td>\n",
              "      <td>22</td>\n",
              "      <td>16</td>\n",
              "      <td>5</td>\n",
              "      <td>6</td>\n",
              "      <td>0</td>\n",
              "      <td>0</td>\n",
              "      <td>107</td>\n",
              "      <td>158</td>\n",
              "      <td>1</td>\n",
              "    </tr>\n",
              "    <tr>\n",
              "      <th>3</th>\n",
              "      <td>青嶋未来</td>\n",
              "      <td>25</td>\n",
              "      <td>20</td>\n",
              "      <td>6</td>\n",
              "      <td>3</td>\n",
              "      <td>0</td>\n",
              "      <td>0</td>\n",
              "      <td>70</td>\n",
              "      <td>120</td>\n",
              "      <td>0</td>\n",
              "    </tr>\n",
              "    <tr>\n",
              "      <th>4</th>\n",
              "      <td>佐々木大地</td>\n",
              "      <td>24</td>\n",
              "      <td>20</td>\n",
              "      <td>3</td>\n",
              "      <td>0</td>\n",
              "      <td>2</td>\n",
              "      <td>0</td>\n",
              "      <td>127</td>\n",
              "      <td>182</td>\n",
              "      <td>0</td>\n",
              "    </tr>\n",
              "  </tbody>\n",
              "</table>\n",
              "</div>"
            ],
            "text/plain": [
              "    name  age  debut age  juni-sen  ...  osho-league  wins  games  champions\n",
              "0   藤井聡太   17         14         5  ...            1   158    190          3\n",
              "1  佐々木勇気   25         16         6  ...            0    73    115          0\n",
              "2   増田康宏   22         16         5  ...            0   107    158          1\n",
              "3   青嶋未来   25         20         6  ...            0    70    120          0\n",
              "4  佐々木大地   24         20         3  ...            0   127    182          0\n",
              "\n",
              "[5 rows x 10 columns]"
            ]
          },
          "metadata": {
            "tags": []
          },
          "execution_count": 4
        }
      ]
    },
    {
      "cell_type": "code",
      "metadata": {
        "id": "2DKZTP9hVfx3",
        "colab_type": "code",
        "outputId": "ea3541ad-f28d-4db6-da51-c202f0567bd7",
        "colab": {
          "base_uri": "https://localhost:8080/",
          "height": 835
        }
      },
      "source": [
        "'''データ可視化'''\n",
        "test.plot.bar(x='name', figsize=(15,10), sharex=True, subplots=True, layout=(3,3))"
      ],
      "execution_count": 5,
      "outputs": [
        {
          "output_type": "execute_result",
          "data": {
            "text/plain": [
              "array([[<matplotlib.axes._subplots.AxesSubplot object at 0x7f64a9669eb8>,\n",
              "        <matplotlib.axes._subplots.AxesSubplot object at 0x7f64a911df98>,\n",
              "        <matplotlib.axes._subplots.AxesSubplot object at 0x7f64a78bf5f8>],\n",
              "       [<matplotlib.axes._subplots.AxesSubplot object at 0x7f64a78edc18>,\n",
              "        <matplotlib.axes._subplots.AxesSubplot object at 0x7f64a78ac278>,\n",
              "        <matplotlib.axes._subplots.AxesSubplot object at 0x7f64a785c898>],\n",
              "       [<matplotlib.axes._subplots.AxesSubplot object at 0x7f64a9b5c710>,\n",
              "        <matplotlib.axes._subplots.AxesSubplot object at 0x7f64a9b200b8>,\n",
              "        <matplotlib.axes._subplots.AxesSubplot object at 0x7f64a9b201d0>]],\n",
              "      dtype=object)"
            ]
          },
          "metadata": {
            "tags": []
          },
          "execution_count": 5
        },
        {
          "output_type": "display_data",
          "data": {
            "image/png": "[encoded data removed]",
            "text/plain": [
              "<Figure size 1080x720 with 9 Axes>"
            ]
          },
          "metadata": {
            "tags": [],
            "needs_background": "light"
          }
        }
      ]
    },
    {
      "cell_type": "code",
      "metadata": {
        "id": "8y22hEPOZtP1",
        "colab_type": "code",
        "colab": {}
      },
      "source": [
        "'''学習に用いる変数とターゲット変数を抽出'''\n",
        "train_x = train.loc[:, 'age' : 'champions']\n",
        "train_y = train['get_titles']\n",
        "test_x = test.loc[:, \"age\" : \"champions\"]"
      ],
      "execution_count": 0,
      "outputs": []
    },
    {
      "cell_type": "code",
      "metadata": {
        "id": "vGRzVfaTzKwS",
        "colab_type": "code",
        "colab": {}
      },
      "source": [
        "'''学習＆予測'''\n",
        "params = {\n",
        "    'learning_rate' : 0.01,\n",
        "    'min_child_samples' : 0,\n",
        "}\n",
        "model = LGBMRegressor(**params)\n",
        "model.fit(train_x, train_y)\n",
        "y_pred = model.predict(test_x)"
      ],
      "execution_count": 0,
      "outputs": []
    },
    {
      "cell_type": "code",
      "metadata": {
        "id": "yGNkFZad9zWJ",
        "colab_type": "code",
        "outputId": "f339d0d6-d113-4b38-f7d8-baef4aca9294",
        "colab": {
          "base_uri": "https://localhost:8080/",
          "height": 227
        }
      },
      "source": [
        "'''結果表示'''\n",
        "names = test[\"name\"]\n",
        "display(pd.DataFrame(y_pred, index=names, columns=['タイトル獲得数']))"
      ],
      "execution_count": 8,
      "outputs": [
        {
          "output_type": "display_data",
          "data": {
            "text/html": [
              "<div>\n",
              "<style scoped>\n",
              "    .dataframe tbody tr th:only-of-type {\n",
              "        vertical-align: middle;\n",
              "    }\n",
              "\n",
              "    .dataframe tbody tr th {\n",
              "        vertical-align: top;\n",
              "    }\n",
              "\n",
              "    .dataframe thead th {\n",
              "        text-align: right;\n",
              "    }\n",
              "</style>\n",
              "<table border=\"1\" class=\"dataframe\">\n",
              "  <thead>\n",
              "    <tr style=\"text-align: right;\">\n",
              "      <th></th>\n",
              "      <th>タイトル獲得数</th>\n",
              "    </tr>\n",
              "    <tr>\n",
              "      <th>name</th>\n",
              "      <th></th>\n",
              "    </tr>\n",
              "  </thead>\n",
              "  <tbody>\n",
              "    <tr>\n",
              "      <th>藤井聡太</th>\n",
              "      <td>4.104475</td>\n",
              "    </tr>\n",
              "    <tr>\n",
              "      <th>佐々木勇気</th>\n",
              "      <td>0.934637</td>\n",
              "    </tr>\n",
              "    <tr>\n",
              "      <th>増田康宏</th>\n",
              "      <td>2.836540</td>\n",
              "    </tr>\n",
              "    <tr>\n",
              "      <th>青嶋未来</th>\n",
              "      <td>0.934637</td>\n",
              "    </tr>\n",
              "    <tr>\n",
              "      <th>佐々木大地</th>\n",
              "      <td>1.568605</td>\n",
              "    </tr>\n",
              "  </tbody>\n",
              "</table>\n",
              "</div>"
            ],
            "text/plain": [
              "        タイトル獲得数\n",
              "name           \n",
              "藤井聡太   4.104475\n",
              "佐々木勇気  0.934637\n",
              "増田康宏   2.836540\n",
              "青嶋未来   0.934637\n",
              "佐々木大地  1.568605"
            ]
          },
          "metadata": {
            "tags": []
          }
        }
      ]
    },
    {
      "cell_type": "code",
      "metadata": {
        "id": "PsSxkLUdpVI1",
        "colab_type": "code",
        "outputId": "ccd3791a-5cd7-4cc6-a54b-1e71d23c1750",
        "colab": {
          "base_uri": "https://localhost:8080/",
          "height": 317
        }
      },
      "source": [
        "'''重要度表示'''\n",
        "features = test.loc[:, 'age' : 'champions']\n",
        "display(pd.DataFrame(model.feature_importances_, index=features.columns, columns=['importance']).sort_values('importance', ascending=False))"
      ],
      "execution_count": 9,
      "outputs": [
        {
          "output_type": "display_data",
          "data": {
            "text/html": [
              "<div>\n",
              "<style scoped>\n",
              "    .dataframe tbody tr th:only-of-type {\n",
              "        vertical-align: middle;\n",
              "    }\n",
              "\n",
              "    .dataframe tbody tr th {\n",
              "        vertical-align: top;\n",
              "    }\n",
              "\n",
              "    .dataframe thead th {\n",
              "        text-align: right;\n",
              "    }\n",
              "</style>\n",
              "<table border=\"1\" class=\"dataframe\">\n",
              "  <thead>\n",
              "    <tr style=\"text-align: right;\">\n",
              "      <th></th>\n",
              "      <th>importance</th>\n",
              "    </tr>\n",
              "  </thead>\n",
              "  <tbody>\n",
              "    <tr>\n",
              "      <th>age</th>\n",
              "      <td>329</td>\n",
              "    </tr>\n",
              "    <tr>\n",
              "      <th>wins</th>\n",
              "      <td>246</td>\n",
              "    </tr>\n",
              "    <tr>\n",
              "      <th>debut age</th>\n",
              "      <td>207</td>\n",
              "    </tr>\n",
              "    <tr>\n",
              "      <th>games</th>\n",
              "      <td>200</td>\n",
              "    </tr>\n",
              "    <tr>\n",
              "      <th>juni-sen</th>\n",
              "      <td>104</td>\n",
              "    </tr>\n",
              "    <tr>\n",
              "      <th>ryuo-sen</th>\n",
              "      <td>100</td>\n",
              "    </tr>\n",
              "    <tr>\n",
              "      <th>champions</th>\n",
              "      <td>100</td>\n",
              "    </tr>\n",
              "    <tr>\n",
              "      <th>osho-league</th>\n",
              "      <td>30</td>\n",
              "    </tr>\n",
              "    <tr>\n",
              "      <th>oui-league</th>\n",
              "      <td>1</td>\n",
              "    </tr>\n",
              "  </tbody>\n",
              "</table>\n",
              "</div>"
            ],
            "text/plain": [
              "             importance\n",
              "age                 329\n",
              "wins                246\n",
              "debut age           207\n",
              "games               200\n",
              "juni-sen            104\n",
              "ryuo-sen            100\n",
              "champions           100\n",
              "osho-league          30\n",
              "oui-league            1"
            ]
          },
          "metadata": {
            "tags": []
          }
        }
      ]
    },
    {
      "cell_type": "code",
      "metadata": {
        "id": "fRDUzO-kYVJr",
        "colab_type": "code",
        "outputId": "0f7557f3-06a8-4977-9259-2dad76645fab",
        "colab": {
          "base_uri": "https://localhost:8080/",
          "height": 960
        }
      },
      "source": [
        "lgb.create_tree_digraph(model)"
      ],
      "execution_count": 10,
      "outputs": [
        {
          "output_type": "execute_result",
          "data": {
            "text/plain": [
              "<graphviz.dot.Digraph at 0x7f64a6cfee48>"
            ],
            "image/svg+xml": "<?xml version=\"1.0\" encoding=\"UTF-8\" standalone=\"no\"?>\n<!DOCTYPE svg PUBLIC \"-//W3C//DTD SVG 1.1//EN\"\n \"http://www.w3.org/Graphics/SVG/1.1/DTD/svg11.dtd\">\n<!-- Generated by graphviz version 2.40.1 (20161225.0304)\n -->\n<!-- Title: %3 Pages: 1 -->\n<svg width=\"2979pt\" height=\"690pt\"\n viewBox=\"0.00 0.00 2978.64 690.18\" xmlns=\"http://www.w3.org/2000/svg\" xmlns:xlink=\"http://www.w3.org/1999/xlink\">\n<g id=\"graph0\" class=\"graph\" transform=\"scale(1 1) rotate(0) translate(4 686.1808)\">\n<title>%3</title>\n<polygon fill=\"#ffffff\" stroke=\"transparent\" points=\"-4,4 -4,-686.1808 2974.6417,-686.1808 2974.6417,4 -4,4\"/>\n<!-- split0 -->\n<g id=\"node1\" class=\"node\">\n<title>split0</title>\n<ellipse fill=\"none\" stroke=\"#000000\" cx=\"1923.3209\" cy=\"-655.3107\" rx=\"147.5709\" ry=\"26.7407\"/>\n<text text-anchor=\"middle\" x=\"1923.3209\" y=\"-659.1107\" font-family=\"Times,serif\" font-size=\"14.00\" fill=\"#000000\">split_feature_name: games</text>\n<text text-anchor=\"middle\" x=\"1923.3209\" y=\"-644.1107\" font-family=\"Times,serif\" font-size=\"14.00\" fill=\"#000000\">threshold: 148.50000000000003</text>\n</g>\n<!-- split4 -->\n<g id=\"node2\" class=\"node\">\n<title>split4</title>\n<ellipse fill=\"none\" stroke=\"#000000\" cx=\"1611.3209\" cy=\"-550.5706\" rx=\"147.5709\" ry=\"26.7407\"/>\n<text text-anchor=\"middle\" x=\"1611.3209\" y=\"-554.3706\" font-family=\"Times,serif\" font-size=\"14.00\" fill=\"#000000\">split_feature_name: ryuo&#45;sen</text>\n<text text-anchor=\"middle\" x=\"1611.3209\" y=\"-539.3706\" font-family=\"Times,serif\" font-size=\"14.00\" fill=\"#000000\">threshold: 13.500000000000002</text>\n</g>\n<!-- split0&#45;&gt;split4 -->\n<g id=\"edge17\" class=\"edge\">\n<title>split0&#45;&gt;split4</title>\n<path fill=\"none\" stroke=\"#000000\" d=\"M1852.9129,-631.6744C1804.9759,-615.5817 1741.4214,-594.2461 1691.5296,-577.4971\"/>\n<polygon fill=\"#000000\" stroke=\"#000000\" points=\"1692.336,-574.076 1681.7421,-574.2114 1690.1082,-580.712 1692.336,-574.076\"/>\n<text text-anchor=\"middle\" x=\"1794.8209\" y=\"-599.2407\" font-family=\"Times,serif\" font-size=\"14.00\" fill=\"#000000\">&lt;=</text>\n</g>\n<!-- split1 -->\n<g id=\"node19\" class=\"node\">\n<title>split1</title>\n<ellipse fill=\"none\" stroke=\"#000000\" cx=\"2170.3209\" cy=\"-550.5706\" rx=\"147.5709\" ry=\"26.7407\"/>\n<text text-anchor=\"middle\" x=\"2170.3209\" y=\"-554.3706\" font-family=\"Times,serif\" font-size=\"14.00\" fill=\"#000000\">split_feature_name: champions</text>\n<text text-anchor=\"middle\" x=\"2170.3209\" y=\"-539.3706\" font-family=\"Times,serif\" font-size=\"14.00\" fill=\"#000000\">threshold: 1.5000000000000002</text>\n</g>\n<!-- split0&#45;&gt;split1 -->\n<g id=\"edge26\" class=\"edge\">\n<title>split0&#45;&gt;split1</title>\n<path fill=\"none\" stroke=\"#000000\" d=\"M1981.8564,-630.4888C2018.0226,-615.1526 2064.5797,-595.4101 2102.3706,-579.3849\"/>\n<polygon fill=\"#000000\" stroke=\"#000000\" points=\"2103.9379,-582.522 2111.778,-575.3957 2101.2051,-576.0775 2103.9379,-582.522\"/>\n<text text-anchor=\"middle\" x=\"2066.8209\" y=\"-599.2407\" font-family=\"Times,serif\" font-size=\"14.00\" fill=\"#000000\">&gt;</text>\n</g>\n<!-- split5 -->\n<g id=\"node3\" class=\"node\">\n<title>split5</title>\n<ellipse fill=\"none\" stroke=\"#000000\" cx=\"1224.3209\" cy=\"-445.8305\" rx=\"147.5709\" ry=\"26.7407\"/>\n<text text-anchor=\"middle\" x=\"1224.3209\" y=\"-449.6305\" font-family=\"Times,serif\" font-size=\"14.00\" fill=\"#000000\">split_feature_name: juni&#45;sen</text>\n<text text-anchor=\"middle\" x=\"1224.3209\" y=\"-434.6305\" font-family=\"Times,serif\" font-size=\"14.00\" fill=\"#000000\">threshold: 14.500000000000002</text>\n</g>\n<!-- split4&#45;&gt;split5 -->\n<g id=\"edge9\" class=\"edge\">\n<title>split4&#45;&gt;split5</title>\n<path fill=\"none\" stroke=\"#000000\" d=\"M1528.7743,-528.2297C1466.4855,-511.3715 1381.0286,-488.2429 1316.5058,-470.78\"/>\n<polygon fill=\"#000000\" stroke=\"#000000\" points=\"1317.3076,-467.3712 1306.7405,-468.1371 1315.4789,-474.1281 1317.3076,-467.3712\"/>\n<text text-anchor=\"middle\" x=\"1449.8209\" y=\"-494.5006\" font-family=\"Times,serif\" font-size=\"14.00\" fill=\"#000000\">&lt;=</text>\n</g>\n<!-- split6 -->\n<g id=\"node12\" class=\"node\">\n<title>split6</title>\n<ellipse fill=\"none\" stroke=\"#000000\" cx=\"1611.3209\" cy=\"-445.8305\" rx=\"147.5709\" ry=\"26.7407\"/>\n<text text-anchor=\"middle\" x=\"1611.3209\" y=\"-449.6305\" font-family=\"Times,serif\" font-size=\"14.00\" fill=\"#000000\">split_feature_name: games</text>\n<text text-anchor=\"middle\" x=\"1611.3209\" y=\"-434.6305\" font-family=\"Times,serif\" font-size=\"14.00\" fill=\"#000000\">threshold: 122.50000000000001</text>\n</g>\n<!-- split4&#45;&gt;split6 -->\n<g id=\"edge16\" class=\"edge\">\n<title>split4&#45;&gt;split6</title>\n<path fill=\"none\" stroke=\"#000000\" d=\"M1611.3209,-523.5975C1611.3209,-511.258 1611.3209,-496.4365 1611.3209,-483.0577\"/>\n<polygon fill=\"#000000\" stroke=\"#000000\" points=\"1614.8209,-482.7123 1611.3209,-472.7123 1607.8209,-482.7123 1614.8209,-482.7123\"/>\n<text text-anchor=\"middle\" x=\"1615.8209\" y=\"-494.5006\" font-family=\"Times,serif\" font-size=\"14.00\" fill=\"#000000\">&gt;</text>\n</g>\n<!-- split7 -->\n<g id=\"node4\" class=\"node\">\n<title>split7</title>\n<ellipse fill=\"none\" stroke=\"#000000\" cx=\"913.3209\" cy=\"-341.0904\" rx=\"142.257\" ry=\"26.7407\"/>\n<text text-anchor=\"middle\" x=\"913.3209\" y=\"-344.8904\" font-family=\"Times,serif\" font-size=\"14.00\" fill=\"#000000\">split_feature_name: age</text>\n<text text-anchor=\"middle\" x=\"913.3209\" y=\"-329.8904\" font-family=\"Times,serif\" font-size=\"14.00\" fill=\"#000000\">threshold: 47.00000000000001</text>\n</g>\n<!-- split5&#45;&gt;split7 -->\n<g id=\"edge7\" class=\"edge\">\n<title>split5&#45;&gt;split7</title>\n<path fill=\"none\" stroke=\"#000000\" d=\"M1153.7501,-422.0634C1105.8662,-405.9368 1042.4831,-384.5903 992.8175,-367.8637\"/>\n<polygon fill=\"#000000\" stroke=\"#000000\" points=\"993.6701,-364.4577 983.076,-364.5829 991.4358,-371.0916 993.6701,-364.4577\"/>\n<text text-anchor=\"middle\" x=\"1096.8209\" y=\"-389.7605\" font-family=\"Times,serif\" font-size=\"14.00\" fill=\"#000000\">&lt;=</text>\n</g>\n<!-- leaf6 -->\n<g id=\"node11\" class=\"node\">\n<title>leaf6</title>\n<ellipse fill=\"none\" stroke=\"#000000\" cx=\"1224.3209\" cy=\"-341.0904\" rx=\"151.1419\" ry=\"26.7407\"/>\n<text text-anchor=\"middle\" x=\"1224.3209\" y=\"-344.8904\" font-family=\"Times,serif\" font-size=\"14.00\" fill=\"#000000\">leaf_index: 6</text>\n<text text-anchor=\"middle\" x=\"1224.3209\" y=\"-329.8904\" font-family=\"Times,serif\" font-size=\"14.00\" fill=\"#000000\">leaf_value: 0.8332142860548837</text>\n</g>\n<!-- split5&#45;&gt;leaf6 -->\n<g id=\"edge8\" class=\"edge\">\n<title>split5&#45;&gt;leaf6</title>\n<path fill=\"none\" stroke=\"#000000\" d=\"M1224.3209,-418.8573C1224.3209,-406.5179 1224.3209,-391.6964 1224.3209,-378.3175\"/>\n<polygon fill=\"#000000\" stroke=\"#000000\" points=\"1227.8209,-377.9721 1224.3209,-367.9722 1220.8209,-377.9722 1227.8209,-377.9721\"/>\n<text text-anchor=\"middle\" x=\"1228.8209\" y=\"-389.7605\" font-family=\"Times,serif\" font-size=\"14.00\" fill=\"#000000\">&gt;</text>\n</g>\n<!-- split8 -->\n<g id=\"node5\" class=\"node\">\n<title>split8</title>\n<ellipse fill=\"none\" stroke=\"#000000\" cx=\"602.3209\" cy=\"-236.3503\" rx=\"142.257\" ry=\"26.7407\"/>\n<text text-anchor=\"middle\" x=\"602.3209\" y=\"-240.1503\" font-family=\"Times,serif\" font-size=\"14.00\" fill=\"#000000\">split_feature_name: wins</text>\n<text text-anchor=\"middle\" x=\"602.3209\" y=\"-225.1503\" font-family=\"Times,serif\" font-size=\"14.00\" fill=\"#000000\">threshold: 91.00000000000001</text>\n</g>\n<!-- split7&#45;&gt;split8 -->\n<g id=\"edge5\" class=\"edge\">\n<title>split7&#45;&gt;split8</title>\n<path fill=\"none\" stroke=\"#000000\" d=\"M843.5264,-317.5847C795.4924,-301.4076 731.5915,-279.8867 681.6293,-263.0602\"/>\n<polygon fill=\"#000000\" stroke=\"#000000\" points=\"682.745,-259.7428 672.1509,-259.868 680.5107,-266.3767 682.745,-259.7428\"/>\n<text text-anchor=\"middle\" x=\"785.8209\" y=\"-285.0203\" font-family=\"Times,serif\" font-size=\"14.00\" fill=\"#000000\">&lt;=</text>\n</g>\n<!-- leaf8 -->\n<g id=\"node10\" class=\"node\">\n<title>leaf8</title>\n<ellipse fill=\"none\" stroke=\"#000000\" cx=\"913.3209\" cy=\"-236.3503\" rx=\"151.1419\" ry=\"26.7407\"/>\n<text text-anchor=\"middle\" x=\"913.3209\" y=\"-240.1503\" font-family=\"Times,serif\" font-size=\"14.00\" fill=\"#000000\">leaf_index: 8</text>\n<text text-anchor=\"middle\" x=\"913.3209\" y=\"-225.1503\" font-family=\"Times,serif\" font-size=\"14.00\" fill=\"#000000\">leaf_value: 0.8132142854588372</text>\n</g>\n<!-- split7&#45;&gt;leaf8 -->\n<g id=\"edge6\" class=\"edge\">\n<title>split7&#45;&gt;leaf8</title>\n<path fill=\"none\" stroke=\"#000000\" d=\"M913.3209,-314.1172C913.3209,-301.7778 913.3209,-286.9563 913.3209,-273.5774\"/>\n<polygon fill=\"#000000\" stroke=\"#000000\" points=\"916.8209,-273.232 913.3209,-263.2321 909.8209,-273.2321 916.8209,-273.232\"/>\n<text text-anchor=\"middle\" x=\"917.8209\" y=\"-285.0203\" font-family=\"Times,serif\" font-size=\"14.00\" fill=\"#000000\">&gt;</text>\n</g>\n<!-- split9 -->\n<g id=\"node6\" class=\"node\">\n<title>split9</title>\n<ellipse fill=\"none\" stroke=\"#000000\" cx=\"311.3209\" cy=\"-131.6102\" rx=\"142.257\" ry=\"26.7407\"/>\n<text text-anchor=\"middle\" x=\"311.3209\" y=\"-135.4102\" font-family=\"Times,serif\" font-size=\"14.00\" fill=\"#000000\">split_feature_name: wins</text>\n<text text-anchor=\"middle\" x=\"311.3209\" y=\"-120.4102\" font-family=\"Times,serif\" font-size=\"14.00\" fill=\"#000000\">threshold: 60.50000000000001</text>\n</g>\n<!-- split8&#45;&gt;split9 -->\n<g id=\"edge3\" class=\"edge\">\n<title>split8&#45;&gt;split9</title>\n<path fill=\"none\" stroke=\"#000000\" d=\"M535.9243,-212.4521C491.6047,-196.5001 433.2167,-175.4844 387.0815,-158.8788\"/>\n<polygon fill=\"#000000\" stroke=\"#000000\" points=\"388.0266,-155.4992 377.4321,-155.4057 385.6559,-162.0856 388.0266,-155.4992\"/>\n<text text-anchor=\"middle\" x=\"482.8209\" y=\"-180.2802\" font-family=\"Times,serif\" font-size=\"14.00\" fill=\"#000000\">&lt;=</text>\n</g>\n<!-- leaf9 -->\n<g id=\"node9\" class=\"node\">\n<title>leaf9</title>\n<ellipse fill=\"none\" stroke=\"#000000\" cx=\"622.3209\" cy=\"-131.6102\" rx=\"151.1419\" ry=\"26.7407\"/>\n<text text-anchor=\"middle\" x=\"622.3209\" y=\"-135.4102\" font-family=\"Times,serif\" font-size=\"14.00\" fill=\"#000000\">leaf_index: 9</text>\n<text text-anchor=\"middle\" x=\"622.3209\" y=\"-120.4102\" font-family=\"Times,serif\" font-size=\"14.00\" fill=\"#000000\">leaf_value: 0.8132142854588372</text>\n</g>\n<!-- split8&#45;&gt;leaf9 -->\n<g id=\"edge4\" class=\"edge\">\n<title>split8&#45;&gt;leaf9</title>\n<path fill=\"none\" stroke=\"#000000\" d=\"M607.4713,-209.3771C609.8509,-196.9155 612.7138,-181.9225 615.2882,-168.4403\"/>\n<polygon fill=\"#000000\" stroke=\"#000000\" points=\"618.75,-168.971 617.1878,-158.4919 611.8742,-167.658 618.75,-168.971\"/>\n<text text-anchor=\"middle\" x=\"618.8209\" y=\"-180.2802\" font-family=\"Times,serif\" font-size=\"14.00\" fill=\"#000000\">&gt;</text>\n</g>\n<!-- leaf0 -->\n<g id=\"node7\" class=\"node\">\n<title>leaf0</title>\n<ellipse fill=\"none\" stroke=\"#000000\" cx=\"151.3209\" cy=\"-26.8701\" rx=\"151.1419\" ry=\"26.7407\"/>\n<text text-anchor=\"middle\" x=\"151.3209\" y=\"-30.6701\" font-family=\"Times,serif\" font-size=\"14.00\" fill=\"#000000\">leaf_index: 0</text>\n<text text-anchor=\"middle\" x=\"151.3209\" y=\"-15.6701\" font-family=\"Times,serif\" font-size=\"14.00\" fill=\"#000000\">leaf_value: 0.8132142854588372</text>\n</g>\n<!-- split9&#45;&gt;leaf0 -->\n<g id=\"edge1\" class=\"edge\">\n<title>split9&#45;&gt;leaf0</title>\n<path fill=\"none\" stroke=\"#000000\" d=\"M271.7703,-105.7194C249.9431,-91.4307 222.6642,-73.5733 199.5889,-58.4675\"/>\n<polygon fill=\"#000000\" stroke=\"#000000\" points=\"201.2547,-55.3748 190.971,-52.826 197.4207,-61.2315 201.2547,-55.3748\"/>\n<text text-anchor=\"middle\" x=\"249.8209\" y=\"-75.5401\" font-family=\"Times,serif\" font-size=\"14.00\" fill=\"#000000\">&lt;=</text>\n</g>\n<!-- leaf10 -->\n<g id=\"node8\" class=\"node\">\n<title>leaf10</title>\n<ellipse fill=\"none\" stroke=\"#000000\" cx=\"472.3209\" cy=\"-26.8701\" rx=\"151.1419\" ry=\"26.7407\"/>\n<text text-anchor=\"middle\" x=\"472.3209\" y=\"-30.6701\" font-family=\"Times,serif\" font-size=\"14.00\" fill=\"#000000\">leaf_index: 10</text>\n<text text-anchor=\"middle\" x=\"472.3209\" y=\"-15.6701\" font-family=\"Times,serif\" font-size=\"14.00\" fill=\"#000000\">leaf_value: 0.8232142857568604</text>\n</g>\n<!-- split9&#45;&gt;leaf10 -->\n<g id=\"edge2\" class=\"edge\">\n<title>split9&#45;&gt;leaf10</title>\n<path fill=\"none\" stroke=\"#000000\" d=\"M351.1186,-105.7194C373.0822,-91.4307 400.5316,-73.5733 423.7512,-58.4675\"/>\n<polygon fill=\"#000000\" stroke=\"#000000\" points=\"425.9493,-61.2131 432.4229,-52.826 422.132,-55.3455 425.9493,-61.2131\"/>\n<text text-anchor=\"middle\" x=\"406.8209\" y=\"-75.5401\" font-family=\"Times,serif\" font-size=\"14.00\" fill=\"#000000\">&gt;</text>\n</g>\n<!-- split11 -->\n<g id=\"node13\" class=\"node\">\n<title>split11</title>\n<ellipse fill=\"none\" stroke=\"#000000\" cx=\"1535.3209\" cy=\"-341.0904\" rx=\"142.257\" ry=\"26.7407\"/>\n<text text-anchor=\"middle\" x=\"1535.3209\" y=\"-344.8904\" font-family=\"Times,serif\" font-size=\"14.00\" fill=\"#000000\">split_feature_name: age</text>\n<text text-anchor=\"middle\" x=\"1535.3209\" y=\"-329.8904\" font-family=\"Times,serif\" font-size=\"14.00\" fill=\"#000000\">threshold: 49.50000000000001</text>\n</g>\n<!-- split6&#45;&gt;split11 -->\n<g id=\"edge14\" class=\"edge\">\n<title>split6&#45;&gt;split11</title>\n<path fill=\"none\" stroke=\"#000000\" d=\"M1591.9462,-419.1292C1582.4771,-406.0793 1570.9581,-390.2042 1560.7879,-376.188\"/>\n<polygon fill=\"#000000\" stroke=\"#000000\" points=\"1563.3659,-373.7813 1554.6601,-367.743 1557.7002,-377.8923 1563.3659,-373.7813\"/>\n<text text-anchor=\"middle\" x=\"1586.8209\" y=\"-389.7605\" font-family=\"Times,serif\" font-size=\"14.00\" fill=\"#000000\">&lt;=</text>\n</g>\n<!-- leaf7 -->\n<g id=\"node18\" class=\"node\">\n<title>leaf7</title>\n<ellipse fill=\"none\" stroke=\"#000000\" cx=\"1846.3209\" cy=\"-341.0904\" rx=\"151.1419\" ry=\"26.7407\"/>\n<text text-anchor=\"middle\" x=\"1846.3209\" y=\"-344.8904\" font-family=\"Times,serif\" font-size=\"14.00\" fill=\"#000000\">leaf_index: 7</text>\n<text text-anchor=\"middle\" x=\"1846.3209\" y=\"-329.8904\" font-family=\"Times,serif\" font-size=\"14.00\" fill=\"#000000\">leaf_value: 0.8232142857568604</text>\n</g>\n<!-- split6&#45;&gt;leaf7 -->\n<g id=\"edge15\" class=\"edge\">\n<title>split6&#45;&gt;leaf7</title>\n<path fill=\"none\" stroke=\"#000000\" d=\"M1667.3106,-420.8757C1701.3324,-405.7122 1744.9356,-386.2781 1780.59,-370.3868\"/>\n<polygon fill=\"#000000\" stroke=\"#000000\" points=\"1782.2365,-373.4849 1789.9455,-366.217 1779.3868,-367.0912 1782.2365,-373.4849\"/>\n<text text-anchor=\"middle\" x=\"1747.8209\" y=\"-389.7605\" font-family=\"Times,serif\" font-size=\"14.00\" fill=\"#000000\">&gt;</text>\n</g>\n<!-- split12 -->\n<g id=\"node14\" class=\"node\">\n<title>split12</title>\n<ellipse fill=\"none\" stroke=\"#000000\" cx=\"1224.3209\" cy=\"-236.3503\" rx=\"142.257\" ry=\"26.7407\"/>\n<text text-anchor=\"middle\" x=\"1224.3209\" y=\"-240.1503\" font-family=\"Times,serif\" font-size=\"14.00\" fill=\"#000000\">split_feature_name: wins</text>\n<text text-anchor=\"middle\" x=\"1224.3209\" y=\"-225.1503\" font-family=\"Times,serif\" font-size=\"14.00\" fill=\"#000000\">threshold: 63.50000000000001</text>\n</g>\n<!-- split11&#45;&gt;split12 -->\n<g id=\"edge12\" class=\"edge\">\n<title>split11&#45;&gt;split12</title>\n<path fill=\"none\" stroke=\"#000000\" d=\"M1465.5264,-317.5847C1417.4924,-301.4076 1353.5915,-279.8867 1303.6293,-263.0602\"/>\n<polygon fill=\"#000000\" stroke=\"#000000\" points=\"1304.745,-259.7428 1294.1509,-259.868 1302.5107,-266.3767 1304.745,-259.7428\"/>\n<text text-anchor=\"middle\" x=\"1407.8209\" y=\"-285.0203\" font-family=\"Times,serif\" font-size=\"14.00\" fill=\"#000000\">&lt;=</text>\n</g>\n<!-- leaf12 -->\n<g id=\"node17\" class=\"node\">\n<title>leaf12</title>\n<ellipse fill=\"none\" stroke=\"#000000\" cx=\"1535.3209\" cy=\"-236.3503\" rx=\"151.1419\" ry=\"26.7407\"/>\n<text text-anchor=\"middle\" x=\"1535.3209\" y=\"-240.1503\" font-family=\"Times,serif\" font-size=\"14.00\" fill=\"#000000\">leaf_index: 12</text>\n<text text-anchor=\"middle\" x=\"1535.3209\" y=\"-225.1503\" font-family=\"Times,serif\" font-size=\"14.00\" fill=\"#000000\">leaf_value: 0.8132142854588372</text>\n</g>\n<!-- split11&#45;&gt;leaf12 -->\n<g id=\"edge13\" class=\"edge\">\n<title>split11&#45;&gt;leaf12</title>\n<path fill=\"none\" stroke=\"#000000\" d=\"M1535.3209,-314.1172C1535.3209,-301.7778 1535.3209,-286.9563 1535.3209,-273.5774\"/>\n<polygon fill=\"#000000\" stroke=\"#000000\" points=\"1538.8209,-273.232 1535.3209,-263.2321 1531.8209,-273.2321 1538.8209,-273.232\"/>\n<text text-anchor=\"middle\" x=\"1539.8209\" y=\"-285.0203\" font-family=\"Times,serif\" font-size=\"14.00\" fill=\"#000000\">&gt;</text>\n</g>\n<!-- leaf5 -->\n<g id=\"node15\" class=\"node\">\n<title>leaf5</title>\n<ellipse fill=\"none\" stroke=\"#000000\" cx=\"1083.3209\" cy=\"-131.6102\" rx=\"151.1419\" ry=\"26.7407\"/>\n<text text-anchor=\"middle\" x=\"1083.3209\" y=\"-135.4102\" font-family=\"Times,serif\" font-size=\"14.00\" fill=\"#000000\">leaf_index: 5</text>\n<text text-anchor=\"middle\" x=\"1083.3209\" y=\"-120.4102\" font-family=\"Times,serif\" font-size=\"14.00\" fill=\"#000000\">leaf_value: 0.8132142854588372</text>\n</g>\n<!-- split12&#45;&gt;leaf5 -->\n<g id=\"edge10\" class=\"edge\">\n<title>split12&#45;&gt;leaf5</title>\n<path fill=\"none\" stroke=\"#000000\" d=\"M1189.1043,-210.1901C1170.1778,-196.1308 1146.6802,-178.6759 1126.6417,-163.7905\"/>\n<polygon fill=\"#000000\" stroke=\"#000000\" points=\"1128.6918,-160.9534 1118.5771,-157.7999 1124.5175,-166.5727 1128.6918,-160.9534\"/>\n<text text-anchor=\"middle\" x=\"1170.8209\" y=\"-180.2802\" font-family=\"Times,serif\" font-size=\"14.00\" fill=\"#000000\">&lt;=</text>\n</g>\n<!-- leaf13 -->\n<g id=\"node16\" class=\"node\">\n<title>leaf13</title>\n<ellipse fill=\"none\" stroke=\"#000000\" cx=\"1404.3209\" cy=\"-131.6102\" rx=\"151.1419\" ry=\"26.7407\"/>\n<text text-anchor=\"middle\" x=\"1404.3209\" y=\"-135.4102\" font-family=\"Times,serif\" font-size=\"14.00\" fill=\"#000000\">leaf_index: 13</text>\n<text text-anchor=\"middle\" x=\"1404.3209\" y=\"-120.4102\" font-family=\"Times,serif\" font-size=\"14.00\" fill=\"#000000\">leaf_value: 0.8132142854588372</text>\n</g>\n<!-- split12&#45;&gt;leaf13 -->\n<g id=\"edge11\" class=\"edge\">\n<title>split12&#45;&gt;leaf13</title>\n<path fill=\"none\" stroke=\"#000000\" d=\"M1268.3538,-210.728C1293.4142,-196.1456 1324.9744,-177.781 1351.3786,-162.4167\"/>\n<polygon fill=\"#000000\" stroke=\"#000000\" points=\"1353.2357,-165.3856 1360.1186,-157.331 1349.7151,-159.3353 1353.2357,-165.3856\"/>\n<text text-anchor=\"middle\" x=\"1329.8209\" y=\"-180.2802\" font-family=\"Times,serif\" font-size=\"14.00\" fill=\"#000000\">&gt;</text>\n</g>\n<!-- split2 -->\n<g id=\"node20\" class=\"node\">\n<title>split2</title>\n<ellipse fill=\"none\" stroke=\"#000000\" cx=\"2170.3209\" cy=\"-445.8305\" rx=\"147.5709\" ry=\"26.7407\"/>\n<text text-anchor=\"middle\" x=\"2170.3209\" y=\"-449.6305\" font-family=\"Times,serif\" font-size=\"14.00\" fill=\"#000000\">split_feature_name: age</text>\n<text text-anchor=\"middle\" x=\"2170.3209\" y=\"-434.6305\" font-family=\"Times,serif\" font-size=\"14.00\" fill=\"#000000\">threshold: 31.500000000000004</text>\n</g>\n<!-- split1&#45;&gt;split2 -->\n<g id=\"edge24\" class=\"edge\">\n<title>split1&#45;&gt;split2</title>\n<path fill=\"none\" stroke=\"#000000\" d=\"M2170.3209,-523.5975C2170.3209,-511.258 2170.3209,-496.4365 2170.3209,-483.0577\"/>\n<polygon fill=\"#000000\" stroke=\"#000000\" points=\"2173.8209,-482.7123 2170.3209,-472.7123 2166.8209,-482.7123 2173.8209,-482.7123\"/>\n<text text-anchor=\"middle\" x=\"2178.8209\" y=\"-494.5006\" font-family=\"Times,serif\" font-size=\"14.00\" fill=\"#000000\">&lt;=</text>\n</g>\n<!-- leaf2 -->\n<g id=\"node27\" class=\"node\">\n<title>leaf2</title>\n<ellipse fill=\"none\" stroke=\"#000000\" cx=\"2487.3209\" cy=\"-445.8305\" rx=\"151.1419\" ry=\"26.7407\"/>\n<text text-anchor=\"middle\" x=\"2487.3209\" y=\"-449.6305\" font-family=\"Times,serif\" font-size=\"14.00\" fill=\"#000000\">leaf_index: 2</text>\n<text text-anchor=\"middle\" x=\"2487.3209\" y=\"-434.6305\" font-family=\"Times,serif\" font-size=\"14.00\" fill=\"#000000\">leaf_value: 0.8732142836706979</text>\n</g>\n<!-- split1&#45;&gt;leaf2 -->\n<g id=\"edge25\" class=\"edge\">\n<title>split1&#45;&gt;leaf2</title>\n<path fill=\"none\" stroke=\"#000000\" d=\"M2241.8571,-526.9343C2290.5781,-510.8364 2355.177,-489.4922 2405.8757,-472.7408\"/>\n<polygon fill=\"#000000\" stroke=\"#000000\" points=\"2407.0999,-476.0225 2415.497,-469.5619 2404.9038,-469.3759 2407.0999,-476.0225\"/>\n<text text-anchor=\"middle\" x=\"2352.8209\" y=\"-494.5006\" font-family=\"Times,serif\" font-size=\"14.00\" fill=\"#000000\">&gt;</text>\n</g>\n<!-- split3 -->\n<g id=\"node21\" class=\"node\">\n<title>split3</title>\n<ellipse fill=\"none\" stroke=\"#000000\" cx=\"2170.3209\" cy=\"-341.0904\" rx=\"147.5709\" ry=\"26.7407\"/>\n<text text-anchor=\"middle\" x=\"2170.3209\" y=\"-344.8904\" font-family=\"Times,serif\" font-size=\"14.00\" fill=\"#000000\">split_feature_name: debut_age</text>\n<text text-anchor=\"middle\" x=\"2170.3209\" y=\"-329.8904\" font-family=\"Times,serif\" font-size=\"14.00\" fill=\"#000000\">threshold: 16.500000000000004</text>\n</g>\n<!-- split2&#45;&gt;split3 -->\n<g id=\"edge20\" class=\"edge\">\n<title>split2&#45;&gt;split3</title>\n<path fill=\"none\" stroke=\"#000000\" d=\"M2170.3209,-418.8573C2170.3209,-406.5179 2170.3209,-391.6964 2170.3209,-378.3175\"/>\n<polygon fill=\"#000000\" stroke=\"#000000\" points=\"2173.8209,-377.9721 2170.3209,-367.9722 2166.8209,-377.9722 2173.8209,-377.9721\"/>\n<text text-anchor=\"middle\" x=\"2178.8209\" y=\"-389.7605\" font-family=\"Times,serif\" font-size=\"14.00\" fill=\"#000000\">&lt;=</text>\n</g>\n<!-- split10 -->\n<g id=\"node24\" class=\"node\">\n<title>split10</title>\n<ellipse fill=\"none\" stroke=\"#000000\" cx=\"2498.3209\" cy=\"-341.0904\" rx=\"147.5709\" ry=\"26.7407\"/>\n<text text-anchor=\"middle\" x=\"2498.3209\" y=\"-344.8904\" font-family=\"Times,serif\" font-size=\"14.00\" fill=\"#000000\">split_feature_name: debut_age</text>\n<text text-anchor=\"middle\" x=\"2498.3209\" y=\"-329.8904\" font-family=\"Times,serif\" font-size=\"14.00\" fill=\"#000000\">threshold: 17.500000000000004</text>\n</g>\n<!-- split2&#45;&gt;split10 -->\n<g id=\"edge23\" class=\"edge\">\n<title>split2&#45;&gt;split10</title>\n<path fill=\"none\" stroke=\"#000000\" d=\"M2243.5222,-422.4552C2294.4458,-406.1937 2362.4248,-384.4861 2415.3588,-367.5827\"/>\n<polygon fill=\"#000000\" stroke=\"#000000\" points=\"2416.5988,-370.8609 2425.0601,-364.4847 2414.4693,-364.1926 2416.5988,-370.8609\"/>\n<text text-anchor=\"middle\" x=\"2358.8209\" y=\"-389.7605\" font-family=\"Times,serif\" font-size=\"14.00\" fill=\"#000000\">&gt;</text>\n</g>\n<!-- leaf1 -->\n<g id=\"node22\" class=\"node\">\n<title>leaf1</title>\n<ellipse fill=\"none\" stroke=\"#000000\" cx=\"1856.3209\" cy=\"-236.3503\" rx=\"151.1419\" ry=\"26.7407\"/>\n<text text-anchor=\"middle\" x=\"1856.3209\" y=\"-240.1503\" font-family=\"Times,serif\" font-size=\"14.00\" fill=\"#000000\">leaf_index: 1</text>\n<text text-anchor=\"middle\" x=\"1856.3209\" y=\"-225.1503\" font-family=\"Times,serif\" font-size=\"14.00\" fill=\"#000000\">leaf_value: 0.8532142860548837</text>\n</g>\n<!-- split3&#45;&gt;leaf1 -->\n<g id=\"edge18\" class=\"edge\">\n<title>split3&#45;&gt;leaf1</title>\n<path fill=\"none\" stroke=\"#000000\" d=\"M2099.4616,-317.4541C2051.2017,-301.3562 1987.2141,-280.012 1936.9952,-263.2606\"/>\n<polygon fill=\"#000000\" stroke=\"#000000\" points=\"1938.0587,-259.9258 1927.465,-260.0816 1935.8437,-266.5661 1938.0587,-259.9258\"/>\n<text text-anchor=\"middle\" x=\"2040.8209\" y=\"-285.0203\" font-family=\"Times,serif\" font-size=\"14.00\" fill=\"#000000\">&lt;=</text>\n</g>\n<!-- leaf4 -->\n<g id=\"node23\" class=\"node\">\n<title>leaf4</title>\n<ellipse fill=\"none\" stroke=\"#000000\" cx=\"2177.3209\" cy=\"-236.3503\" rx=\"151.1419\" ry=\"26.7407\"/>\n<text text-anchor=\"middle\" x=\"2177.3209\" y=\"-240.1503\" font-family=\"Times,serif\" font-size=\"14.00\" fill=\"#000000\">leaf_index: 4</text>\n<text text-anchor=\"middle\" x=\"2177.3209\" y=\"-225.1503\" font-family=\"Times,serif\" font-size=\"14.00\" fill=\"#000000\">leaf_value: 0.8332142860548837</text>\n</g>\n<!-- split3&#45;&gt;leaf4 -->\n<g id=\"edge19\" class=\"edge\">\n<title>split3&#45;&gt;leaf4</title>\n<path fill=\"none\" stroke=\"#000000\" d=\"M2172.1235,-314.1172C2172.9482,-301.7778 2173.9387,-286.9563 2174.8329,-273.5774\"/>\n<polygon fill=\"#000000\" stroke=\"#000000\" points=\"2178.3496,-273.4432 2175.5243,-263.2321 2171.3652,-272.9764 2178.3496,-273.4432\"/>\n<text text-anchor=\"middle\" x=\"2178.8209\" y=\"-285.0203\" font-family=\"Times,serif\" font-size=\"14.00\" fill=\"#000000\">&gt;</text>\n</g>\n<!-- leaf3 -->\n<g id=\"node25\" class=\"node\">\n<title>leaf3</title>\n<ellipse fill=\"none\" stroke=\"#000000\" cx=\"2498.3209\" cy=\"-236.3503\" rx=\"151.1419\" ry=\"26.7407\"/>\n<text text-anchor=\"middle\" x=\"2498.3209\" y=\"-240.1503\" font-family=\"Times,serif\" font-size=\"14.00\" fill=\"#000000\">leaf_index: 3</text>\n<text text-anchor=\"middle\" x=\"2498.3209\" y=\"-225.1503\" font-family=\"Times,serif\" font-size=\"14.00\" fill=\"#000000\">leaf_value: 0.8332142860548837</text>\n</g>\n<!-- split10&#45;&gt;leaf3 -->\n<g id=\"edge21\" class=\"edge\">\n<title>split10&#45;&gt;leaf3</title>\n<path fill=\"none\" stroke=\"#000000\" d=\"M2498.3209,-314.1172C2498.3209,-301.7778 2498.3209,-286.9563 2498.3209,-273.5774\"/>\n<polygon fill=\"#000000\" stroke=\"#000000\" points=\"2501.8209,-273.232 2498.3209,-263.2321 2494.8209,-273.2321 2501.8209,-273.232\"/>\n<text text-anchor=\"middle\" x=\"2506.8209\" y=\"-285.0203\" font-family=\"Times,serif\" font-size=\"14.00\" fill=\"#000000\">&lt;=</text>\n</g>\n<!-- leaf11 -->\n<g id=\"node26\" class=\"node\">\n<title>leaf11</title>\n<ellipse fill=\"none\" stroke=\"#000000\" cx=\"2819.3209\" cy=\"-236.3503\" rx=\"151.1419\" ry=\"26.7407\"/>\n<text text-anchor=\"middle\" x=\"2819.3209\" y=\"-240.1503\" font-family=\"Times,serif\" font-size=\"14.00\" fill=\"#000000\">leaf_index: 11</text>\n<text text-anchor=\"middle\" x=\"2819.3209\" y=\"-225.1503\" font-family=\"Times,serif\" font-size=\"14.00\" fill=\"#000000\">leaf_value: 0.8232142857568604</text>\n</g>\n<!-- split10&#45;&gt;leaf11 -->\n<g id=\"edge22\" class=\"edge\">\n<title>split10&#45;&gt;leaf11</title>\n<path fill=\"none\" stroke=\"#000000\" d=\"M2570.3595,-317.5847C2619.8511,-301.4359 2685.6626,-279.9621 2737.1912,-263.1486\"/>\n<polygon fill=\"#000000\" stroke=\"#000000\" points=\"2738.547,-266.3879 2746.968,-259.9585 2736.3755,-259.7332 2738.547,-266.3879\"/>\n<text text-anchor=\"middle\" x=\"2681.8209\" y=\"-285.0203\" font-family=\"Times,serif\" font-size=\"14.00\" fill=\"#000000\">&gt;</text>\n</g>\n</g>\n</svg>\n"
          },
          "metadata": {
            "tags": []
          },
          "execution_count": 10
        }
      ]
    },
    {
      "cell_type": "code",
      "metadata": {
        "id": "NB63cQdUW263",
        "colab_type": "code",
        "colab": {}
      },
      "source": [
        "train_y2 = train['titles']\n",
        "model.fit(train_x, train_y2)\n",
        "y_pred2 = model.predict(test_x)"
      ],
      "execution_count": 0,
      "outputs": []
    },
    {
      "cell_type": "code",
      "metadata": {
        "id": "IcDWENqifx1P",
        "colab_type": "code",
        "outputId": "389e5bdb-e499-4cab-98d1-7f2664e24d72",
        "colab": {
          "base_uri": "https://localhost:8080/",
          "height": 227
        }
      },
      "source": [
        "'''結果表示'''\n",
        "display(pd.DataFrame(y_pred2, index=names, columns=['タイトル登場数']))"
      ],
      "execution_count": 12,
      "outputs": [
        {
          "output_type": "display_data",
          "data": {
            "text/html": [
              "<div>\n",
              "<style scoped>\n",
              "    .dataframe tbody tr th:only-of-type {\n",
              "        vertical-align: middle;\n",
              "    }\n",
              "\n",
              "    .dataframe tbody tr th {\n",
              "        vertical-align: top;\n",
              "    }\n",
              "\n",
              "    .dataframe thead th {\n",
              "        text-align: right;\n",
              "    }\n",
              "</style>\n",
              "<table border=\"1\" class=\"dataframe\">\n",
              "  <thead>\n",
              "    <tr style=\"text-align: right;\">\n",
              "      <th></th>\n",
              "      <th>タイトル登場数</th>\n",
              "    </tr>\n",
              "    <tr>\n",
              "      <th>name</th>\n",
              "      <th></th>\n",
              "    </tr>\n",
              "  </thead>\n",
              "  <tbody>\n",
              "    <tr>\n",
              "      <th>藤井聡太</th>\n",
              "      <td>4.999895</td>\n",
              "    </tr>\n",
              "    <tr>\n",
              "      <th>佐々木勇気</th>\n",
              "      <td>1.830056</td>\n",
              "    </tr>\n",
              "    <tr>\n",
              "      <th>増田康宏</th>\n",
              "      <td>4.999895</td>\n",
              "    </tr>\n",
              "    <tr>\n",
              "      <th>青嶋未来</th>\n",
              "      <td>1.830056</td>\n",
              "    </tr>\n",
              "    <tr>\n",
              "      <th>佐々木大地</th>\n",
              "      <td>2.464024</td>\n",
              "    </tr>\n",
              "  </tbody>\n",
              "</table>\n",
              "</div>"
            ],
            "text/plain": [
              "        タイトル登場数\n",
              "name           \n",
              "藤井聡太   4.999895\n",
              "佐々木勇気  1.830056\n",
              "増田康宏   4.999895\n",
              "青嶋未来   1.830056\n",
              "佐々木大地  2.464024"
            ]
          },
          "metadata": {
            "tags": []
          }
        }
      ]
    },
    {
      "cell_type": "code",
      "metadata": {
        "id": "x7la7bvzf5eL",
        "colab_type": "code",
        "outputId": "f3390815-0c03-4d9d-c2d7-555dbfcbcb77",
        "colab": {
          "base_uri": "https://localhost:8080/",
          "height": 317
        }
      },
      "source": [
        "'''重要度表示'''\n",
        "display(pd.DataFrame(model.feature_importances_, index=features.columns, columns=['importance']).sort_values('importance', ascending=False))"
      ],
      "execution_count": 13,
      "outputs": [
        {
          "output_type": "display_data",
          "data": {
            "text/html": [
              "<div>\n",
              "<style scoped>\n",
              "    .dataframe tbody tr th:only-of-type {\n",
              "        vertical-align: middle;\n",
              "    }\n",
              "\n",
              "    .dataframe tbody tr th {\n",
              "        vertical-align: top;\n",
              "    }\n",
              "\n",
              "    .dataframe thead th {\n",
              "        text-align: right;\n",
              "    }\n",
              "</style>\n",
              "<table border=\"1\" class=\"dataframe\">\n",
              "  <thead>\n",
              "    <tr style=\"text-align: right;\">\n",
              "      <th></th>\n",
              "      <th>importance</th>\n",
              "    </tr>\n",
              "  </thead>\n",
              "  <tbody>\n",
              "    <tr>\n",
              "      <th>debut age</th>\n",
              "      <td>420</td>\n",
              "    </tr>\n",
              "    <tr>\n",
              "      <th>age</th>\n",
              "      <td>285</td>\n",
              "    </tr>\n",
              "    <tr>\n",
              "      <th>games</th>\n",
              "      <td>204</td>\n",
              "    </tr>\n",
              "    <tr>\n",
              "      <th>wins</th>\n",
              "      <td>181</td>\n",
              "    </tr>\n",
              "    <tr>\n",
              "      <th>juni-sen</th>\n",
              "      <td>113</td>\n",
              "    </tr>\n",
              "    <tr>\n",
              "      <th>ryuo-sen</th>\n",
              "      <td>102</td>\n",
              "    </tr>\n",
              "    <tr>\n",
              "      <th>osho-league</th>\n",
              "      <td>8</td>\n",
              "    </tr>\n",
              "    <tr>\n",
              "      <th>oui-league</th>\n",
              "      <td>2</td>\n",
              "    </tr>\n",
              "    <tr>\n",
              "      <th>champions</th>\n",
              "      <td>0</td>\n",
              "    </tr>\n",
              "  </tbody>\n",
              "</table>\n",
              "</div>"
            ],
            "text/plain": [
              "             importance\n",
              "debut age           420\n",
              "age                 285\n",
              "games               204\n",
              "wins                181\n",
              "juni-sen            113\n",
              "ryuo-sen            102\n",
              "osho-league           8\n",
              "oui-league            2\n",
              "champions             0"
            ]
          },
          "metadata": {
            "tags": []
          }
        }
      ]
    },
    {
      "cell_type": "code",
      "metadata": {
        "id": "B9z9Amx3gBhM",
        "colab_type": "code",
        "outputId": "ab4e95b8-57a1-43f1-c5a1-7c57de3b593e",
        "colab": {
          "base_uri": "https://localhost:8080/",
          "height": 960
        }
      },
      "source": [
        "lgb.create_tree_digraph(model)"
      ],
      "execution_count": 14,
      "outputs": [
        {
          "output_type": "execute_result",
          "data": {
            "text/plain": [
              "<graphviz.dot.Digraph at 0x7f64a6d4d0b8>"
            ],
            "image/svg+xml": "<?xml version=\"1.0\" encoding=\"UTF-8\" standalone=\"no\"?>\n<!DOCTYPE svg PUBLIC \"-//W3C//DTD SVG 1.1//EN\"\n \"http://www.w3.org/Graphics/SVG/1.1/DTD/svg11.dtd\">\n<!-- Generated by graphviz version 2.40.1 (20161225.0304)\n -->\n<!-- Title: %3 Pages: 1 -->\n<svg width=\"3331pt\" height=\"690pt\"\n viewBox=\"0.00 0.00 3330.98 690.18\" xmlns=\"http://www.w3.org/2000/svg\" xmlns:xlink=\"http://www.w3.org/1999/xlink\">\n<g id=\"graph0\" class=\"graph\" transform=\"scale(1 1) rotate(0) translate(4 686.1808)\">\n<title>%3</title>\n<polygon fill=\"#ffffff\" stroke=\"transparent\" points=\"-4,4 -4,-686.1808 3326.9848,-686.1808 3326.9848,4 -4,4\"/>\n<!-- split0 -->\n<g id=\"node1\" class=\"node\">\n<title>split0</title>\n<ellipse fill=\"none\" stroke=\"#000000\" cx=\"2013.3209\" cy=\"-655.3107\" rx=\"147.5709\" ry=\"26.7407\"/>\n<text text-anchor=\"middle\" x=\"2013.3209\" y=\"-659.1107\" font-family=\"Times,serif\" font-size=\"14.00\" fill=\"#000000\">split_feature_name: games</text>\n<text text-anchor=\"middle\" x=\"2013.3209\" y=\"-644.1107\" font-family=\"Times,serif\" font-size=\"14.00\" fill=\"#000000\">threshold: 148.50000000000003</text>\n</g>\n<!-- split2 -->\n<g id=\"node2\" class=\"node\">\n<title>split2</title>\n<ellipse fill=\"none\" stroke=\"#000000\" cx=\"1694.3209\" cy=\"-550.5706\" rx=\"142.257\" ry=\"26.7407\"/>\n<text text-anchor=\"middle\" x=\"1694.3209\" y=\"-554.3706\" font-family=\"Times,serif\" font-size=\"14.00\" fill=\"#000000\">split_feature_name: age</text>\n<text text-anchor=\"middle\" x=\"1694.3209\" y=\"-539.3706\" font-family=\"Times,serif\" font-size=\"14.00\" fill=\"#000000\">threshold: 36.00000000000001</text>\n</g>\n<!-- split0&#45;&gt;split2 -->\n<g id=\"edge19\" class=\"edge\">\n<title>split0&#45;&gt;split2</title>\n<path fill=\"none\" stroke=\"#000000\" d=\"M1941.3333,-631.6744C1891.9596,-615.4631 1826.382,-593.9315 1775.2041,-577.1277\"/>\n<polygon fill=\"#000000\" stroke=\"#000000\" points=\"1776.0894,-573.7347 1765.4966,-573.9404 1773.9057,-580.3853 1776.0894,-573.7347\"/>\n<text text-anchor=\"middle\" x=\"1881.8209\" y=\"-599.2407\" font-family=\"Times,serif\" font-size=\"14.00\" fill=\"#000000\">&lt;=</text>\n</g>\n<!-- split1 -->\n<g id=\"node21\" class=\"node\">\n<title>split1</title>\n<ellipse fill=\"none\" stroke=\"#000000\" cx=\"2370.3209\" cy=\"-550.5706\" rx=\"147.5709\" ry=\"26.7407\"/>\n<text text-anchor=\"middle\" x=\"2370.3209\" y=\"-554.3706\" font-family=\"Times,serif\" font-size=\"14.00\" fill=\"#000000\">split_feature_name: debut_age</text>\n<text text-anchor=\"middle\" x=\"2370.3209\" y=\"-539.3706\" font-family=\"Times,serif\" font-size=\"14.00\" fill=\"#000000\">threshold: 16.500000000000004</text>\n</g>\n<!-- split0&#45;&gt;split1 -->\n<g id=\"edge26\" class=\"edge\">\n<title>split0&#45;&gt;split1</title>\n<path fill=\"none\" stroke=\"#000000\" d=\"M2091.2249,-632.4545C2147.6817,-615.8906 2224.073,-593.4782 2282.6622,-576.2888\"/>\n<polygon fill=\"#000000\" stroke=\"#000000\" points=\"2283.665,-579.6422 2292.2752,-573.4684 2281.6943,-572.9253 2283.665,-579.6422\"/>\n<text text-anchor=\"middle\" x=\"2217.8209\" y=\"-599.2407\" font-family=\"Times,serif\" font-size=\"14.00\" fill=\"#000000\">&gt;</text>\n</g>\n<!-- split3 -->\n<g id=\"node3\" class=\"node\">\n<title>split3</title>\n<ellipse fill=\"none\" stroke=\"#000000\" cx=\"1265.3209\" cy=\"-445.8305\" rx=\"142.257\" ry=\"26.7407\"/>\n<text text-anchor=\"middle\" x=\"1265.3209\" y=\"-449.6305\" font-family=\"Times,serif\" font-size=\"14.00\" fill=\"#000000\">split_feature_name: wins</text>\n<text text-anchor=\"middle\" x=\"1265.3209\" y=\"-434.6305\" font-family=\"Times,serif\" font-size=\"14.00\" fill=\"#000000\">threshold: 91.00000000000001</text>\n</g>\n<!-- split2&#45;&gt;split3 -->\n<g id=\"edge13\" class=\"edge\">\n<title>split2&#45;&gt;split3</title>\n<path fill=\"none\" stroke=\"#000000\" d=\"M1607.2479,-529.3118C1536.2285,-511.9725 1435.9744,-487.4955 1362.382,-469.5279\"/>\n<polygon fill=\"#000000\" stroke=\"#000000\" points=\"1363.1806,-466.1202 1352.6358,-467.1484 1361.5203,-472.9205 1363.1806,-466.1202\"/>\n<text text-anchor=\"middle\" x=\"1514.8209\" y=\"-494.5006\" font-family=\"Times,serif\" font-size=\"14.00\" fill=\"#000000\">&lt;=</text>\n</g>\n<!-- split5 -->\n<g id=\"node16\" class=\"node\">\n<title>split5</title>\n<ellipse fill=\"none\" stroke=\"#000000\" cx=\"1694.3209\" cy=\"-445.8305\" rx=\"147.5709\" ry=\"26.7407\"/>\n<text text-anchor=\"middle\" x=\"1694.3209\" y=\"-449.6305\" font-family=\"Times,serif\" font-size=\"14.00\" fill=\"#000000\">split_feature_name: games</text>\n<text text-anchor=\"middle\" x=\"1694.3209\" y=\"-434.6305\" font-family=\"Times,serif\" font-size=\"14.00\" fill=\"#000000\">threshold: 122.50000000000001</text>\n</g>\n<!-- split2&#45;&gt;split5 -->\n<g id=\"edge18\" class=\"edge\">\n<title>split2&#45;&gt;split5</title>\n<path fill=\"none\" stroke=\"#000000\" d=\"M1694.3209,-523.5975C1694.3209,-511.258 1694.3209,-496.4365 1694.3209,-483.0577\"/>\n<polygon fill=\"#000000\" stroke=\"#000000\" points=\"1697.8209,-482.7123 1694.3209,-472.7123 1690.8209,-482.7123 1697.8209,-482.7123\"/>\n<text text-anchor=\"middle\" x=\"1698.8209\" y=\"-494.5006\" font-family=\"Times,serif\" font-size=\"14.00\" fill=\"#000000\">&gt;</text>\n</g>\n<!-- split4 -->\n<g id=\"node4\" class=\"node\">\n<title>split4</title>\n<ellipse fill=\"none\" stroke=\"#000000\" cx=\"948.3209\" cy=\"-341.0904\" rx=\"147.5709\" ry=\"26.7407\"/>\n<text text-anchor=\"middle\" x=\"948.3209\" y=\"-344.8904\" font-family=\"Times,serif\" font-size=\"14.00\" fill=\"#000000\">split_feature_name: ryuo&#45;sen</text>\n<text text-anchor=\"middle\" x=\"948.3209\" y=\"-329.8904\" font-family=\"Times,serif\" font-size=\"14.00\" fill=\"#000000\">threshold: 13.500000000000002</text>\n</g>\n<!-- split3&#45;&gt;split4 -->\n<g id=\"edge11\" class=\"edge\">\n<title>split3&#45;&gt;split4</title>\n<path fill=\"none\" stroke=\"#000000\" d=\"M1194.5744,-422.4552C1145.6321,-406.2841 1080.3892,-384.7272 1029.355,-367.8649\"/>\n<polygon fill=\"#000000\" stroke=\"#000000\" points=\"1030.2661,-364.4799 1019.6729,-364.6659 1028.0699,-371.1265 1030.2661,-364.4799\"/>\n<text text-anchor=\"middle\" x=\"1134.8209\" y=\"-389.7605\" font-family=\"Times,serif\" font-size=\"14.00\" fill=\"#000000\">&lt;=</text>\n</g>\n<!-- leaf4 -->\n<g id=\"node15\" class=\"node\">\n<title>leaf4</title>\n<ellipse fill=\"none\" stroke=\"#000000\" cx=\"1265.3209\" cy=\"-341.0904\" rx=\"151.1419\" ry=\"26.7407\"/>\n<text text-anchor=\"middle\" x=\"1265.3209\" y=\"-344.8904\" font-family=\"Times,serif\" font-size=\"14.00\" fill=\"#000000\">leaf_index: 4</text>\n<text text-anchor=\"middle\" x=\"1265.3209\" y=\"-329.8904\" font-family=\"Times,serif\" font-size=\"14.00\" fill=\"#000000\">leaf_value: 1.5203571430274418</text>\n</g>\n<!-- split3&#45;&gt;leaf4 -->\n<g id=\"edge12\" class=\"edge\">\n<title>split3&#45;&gt;leaf4</title>\n<path fill=\"none\" stroke=\"#000000\" d=\"M1265.3209,-418.8573C1265.3209,-406.5179 1265.3209,-391.6964 1265.3209,-378.3175\"/>\n<polygon fill=\"#000000\" stroke=\"#000000\" points=\"1268.8209,-377.9721 1265.3209,-367.9722 1261.8209,-377.9722 1268.8209,-377.9721\"/>\n<text text-anchor=\"middle\" x=\"1269.8209\" y=\"-389.7605\" font-family=\"Times,serif\" font-size=\"14.00\" fill=\"#000000\">&gt;</text>\n</g>\n<!-- split8 -->\n<g id=\"node5\" class=\"node\">\n<title>split8</title>\n<ellipse fill=\"none\" stroke=\"#000000\" cx=\"791.3209\" cy=\"-236.3503\" rx=\"147.5709\" ry=\"26.7407\"/>\n<text text-anchor=\"middle\" x=\"791.3209\" y=\"-240.1503\" font-family=\"Times,serif\" font-size=\"14.00\" fill=\"#000000\">split_feature_name: debut_age</text>\n<text text-anchor=\"middle\" x=\"791.3209\" y=\"-225.1503\" font-family=\"Times,serif\" font-size=\"14.00\" fill=\"#000000\">threshold: 17.500000000000004</text>\n</g>\n<!-- split4&#45;&gt;split8 -->\n<g id=\"edge7\" class=\"edge\">\n<title>split4&#45;&gt;split8</title>\n<path fill=\"none\" stroke=\"#000000\" d=\"M909.1081,-314.9302C887.7661,-300.6922 861.204,-282.9717 838.7086,-267.9643\"/>\n<polygon fill=\"#000000\" stroke=\"#000000\" points=\"840.5667,-264.9965 830.3055,-262.3583 836.6819,-270.8196 840.5667,-264.9965\"/>\n<text text-anchor=\"middle\" x=\"887.8209\" y=\"-285.0203\" font-family=\"Times,serif\" font-size=\"14.00\" fill=\"#000000\">&lt;=</text>\n</g>\n<!-- split10 -->\n<g id=\"node12\" class=\"node\">\n<title>split10</title>\n<ellipse fill=\"none\" stroke=\"#000000\" cx=\"1105.3209\" cy=\"-236.3503\" rx=\"147.5709\" ry=\"26.7407\"/>\n<text text-anchor=\"middle\" x=\"1105.3209\" y=\"-240.1503\" font-family=\"Times,serif\" font-size=\"14.00\" fill=\"#000000\">split_feature_name: debut_age</text>\n<text text-anchor=\"middle\" x=\"1105.3209\" y=\"-225.1503\" font-family=\"Times,serif\" font-size=\"14.00\" fill=\"#000000\">threshold: 18.500000000000004</text>\n</g>\n<!-- split4&#45;&gt;split10 -->\n<g id=\"edge10\" class=\"edge\">\n<title>split4&#45;&gt;split10</title>\n<path fill=\"none\" stroke=\"#000000\" d=\"M987.5336,-314.9302C1008.8756,-300.6922 1035.4377,-282.9717 1057.9331,-267.9643\"/>\n<polygon fill=\"#000000\" stroke=\"#000000\" points=\"1059.9598,-270.8196 1066.3362,-262.3583 1056.075,-264.9965 1059.9598,-270.8196\"/>\n<text text-anchor=\"middle\" x=\"1040.8209\" y=\"-285.0203\" font-family=\"Times,serif\" font-size=\"14.00\" fill=\"#000000\">&gt;</text>\n</g>\n<!-- split12 -->\n<g id=\"node6\" class=\"node\">\n<title>split12</title>\n<ellipse fill=\"none\" stroke=\"#000000\" cx=\"472.3209\" cy=\"-131.6102\" rx=\"147.5709\" ry=\"26.7407\"/>\n<text text-anchor=\"middle\" x=\"472.3209\" y=\"-135.4102\" font-family=\"Times,serif\" font-size=\"14.00\" fill=\"#000000\">split_feature_name: age</text>\n<text text-anchor=\"middle\" x=\"472.3209\" y=\"-120.4102\" font-family=\"Times,serif\" font-size=\"14.00\" fill=\"#000000\">threshold: 30.000000000000004</text>\n</g>\n<!-- split8&#45;&gt;split12 -->\n<g id=\"edge3\" class=\"edge\">\n<title>split8&#45;&gt;split12</title>\n<path fill=\"none\" stroke=\"#000000\" d=\"M719.3333,-212.714C670.1323,-196.5594 604.8404,-175.1215 553.7414,-158.3437\"/>\n<polygon fill=\"#000000\" stroke=\"#000000\" points=\"554.6394,-154.9548 544.0465,-155.1605 552.4557,-161.6055 554.6394,-154.9548\"/>\n<text text-anchor=\"middle\" x=\"659.8209\" y=\"-180.2802\" font-family=\"Times,serif\" font-size=\"14.00\" fill=\"#000000\">&lt;=</text>\n</g>\n<!-- split9 -->\n<g id=\"node9\" class=\"node\">\n<title>split9</title>\n<ellipse fill=\"none\" stroke=\"#000000\" cx=\"793.3209\" cy=\"-131.6102\" rx=\"142.257\" ry=\"26.7407\"/>\n<text text-anchor=\"middle\" x=\"793.3209\" y=\"-135.4102\" font-family=\"Times,serif\" font-size=\"14.00\" fill=\"#000000\">split_feature_name: juni&#45;sen</text>\n<text text-anchor=\"middle\" x=\"793.3209\" y=\"-120.4102\" font-family=\"Times,serif\" font-size=\"14.00\" fill=\"#000000\">threshold: 9.500000000000002</text>\n</g>\n<!-- split8&#45;&gt;split9 -->\n<g id=\"edge6\" class=\"edge\">\n<title>split8&#45;&gt;split9</title>\n<path fill=\"none\" stroke=\"#000000\" d=\"M791.8359,-209.3771C792.0715,-197.0377 792.3545,-182.2162 792.61,-168.8373\"/>\n<polygon fill=\"#000000\" stroke=\"#000000\" points=\"796.1159,-168.557 792.8075,-158.4919 789.1172,-168.4233 796.1159,-168.557\"/>\n<text text-anchor=\"middle\" x=\"797.8209\" y=\"-180.2802\" font-family=\"Times,serif\" font-size=\"14.00\" fill=\"#000000\">&gt;</text>\n</g>\n<!-- leaf0 -->\n<g id=\"node7\" class=\"node\">\n<title>leaf0</title>\n<ellipse fill=\"none\" stroke=\"#000000\" cx=\"151.3209\" cy=\"-26.8701\" rx=\"151.1419\" ry=\"26.7407\"/>\n<text text-anchor=\"middle\" x=\"151.3209\" y=\"-30.6701\" font-family=\"Times,serif\" font-size=\"14.00\" fill=\"#000000\">leaf_index: 0</text>\n<text text-anchor=\"middle\" x=\"151.3209\" y=\"-15.6701\" font-family=\"Times,serif\" font-size=\"14.00\" fill=\"#000000\">leaf_value: 1.5403571427294187</text>\n</g>\n<!-- split12&#45;&gt;leaf0 -->\n<g id=\"edge1\" class=\"edge\">\n<title>split12&#45;&gt;leaf0</title>\n<path fill=\"none\" stroke=\"#000000\" d=\"M400.2822,-108.1044C350.7906,-91.9557 284.9791,-70.4818 233.4505,-53.6684\"/>\n<polygon fill=\"#000000\" stroke=\"#000000\" points=\"234.2662,-50.253 223.6737,-50.4783 232.0947,-56.9077 234.2662,-50.253\"/>\n<text text-anchor=\"middle\" x=\"339.8209\" y=\"-75.5401\" font-family=\"Times,serif\" font-size=\"14.00\" fill=\"#000000\">&lt;=</text>\n</g>\n<!-- leaf13 -->\n<g id=\"node8\" class=\"node\">\n<title>leaf13</title>\n<ellipse fill=\"none\" stroke=\"#000000\" cx=\"472.3209\" cy=\"-26.8701\" rx=\"151.1419\" ry=\"26.7407\"/>\n<text text-anchor=\"middle\" x=\"472.3209\" y=\"-30.6701\" font-family=\"Times,serif\" font-size=\"14.00\" fill=\"#000000\">leaf_index: 13</text>\n<text text-anchor=\"middle\" x=\"472.3209\" y=\"-15.6701\" font-family=\"Times,serif\" font-size=\"14.00\" fill=\"#000000\">leaf_value: 1.5403571427294187</text>\n</g>\n<!-- split12&#45;&gt;leaf13 -->\n<g id=\"edge2\" class=\"edge\">\n<title>split12&#45;&gt;leaf13</title>\n<path fill=\"none\" stroke=\"#000000\" d=\"M472.3209,-104.637C472.3209,-92.2976 472.3209,-77.4761 472.3209,-64.0972\"/>\n<polygon fill=\"#000000\" stroke=\"#000000\" points=\"475.8209,-63.7518 472.3209,-53.7518 468.8209,-63.7519 475.8209,-63.7518\"/>\n<text text-anchor=\"middle\" x=\"476.8209\" y=\"-75.5401\" font-family=\"Times,serif\" font-size=\"14.00\" fill=\"#000000\">&gt;</text>\n</g>\n<!-- leaf9 -->\n<g id=\"node10\" class=\"node\">\n<title>leaf9</title>\n<ellipse fill=\"none\" stroke=\"#000000\" cx=\"793.3209\" cy=\"-26.8701\" rx=\"151.1419\" ry=\"26.7407\"/>\n<text text-anchor=\"middle\" x=\"793.3209\" y=\"-30.6701\" font-family=\"Times,serif\" font-size=\"14.00\" fill=\"#000000\">leaf_index: 9</text>\n<text text-anchor=\"middle\" x=\"793.3209\" y=\"-15.6701\" font-family=\"Times,serif\" font-size=\"14.00\" fill=\"#000000\">leaf_value: 1.5403571427294187</text>\n</g>\n<!-- split9&#45;&gt;leaf9 -->\n<g id=\"edge4\" class=\"edge\">\n<title>split9&#45;&gt;leaf9</title>\n<path fill=\"none\" stroke=\"#000000\" d=\"M793.3209,-104.637C793.3209,-92.2976 793.3209,-77.4761 793.3209,-64.0972\"/>\n<polygon fill=\"#000000\" stroke=\"#000000\" points=\"796.8209,-63.7518 793.3209,-53.7518 789.8209,-63.7519 796.8209,-63.7518\"/>\n<text text-anchor=\"middle\" x=\"801.8209\" y=\"-75.5401\" font-family=\"Times,serif\" font-size=\"14.00\" fill=\"#000000\">&lt;=</text>\n</g>\n<!-- leaf10 -->\n<g id=\"node11\" class=\"node\">\n<title>leaf10</title>\n<ellipse fill=\"none\" stroke=\"#000000\" cx=\"1114.3209\" cy=\"-26.8701\" rx=\"151.1419\" ry=\"26.7407\"/>\n<text text-anchor=\"middle\" x=\"1114.3209\" y=\"-30.6701\" font-family=\"Times,serif\" font-size=\"14.00\" fill=\"#000000\">leaf_index: 10</text>\n<text text-anchor=\"middle\" x=\"1114.3209\" y=\"-15.6701\" font-family=\"Times,serif\" font-size=\"14.00\" fill=\"#000000\">leaf_value: 1.5503571430274419</text>\n</g>\n<!-- split9&#45;&gt;leaf10 -->\n<g id=\"edge5\" class=\"edge\">\n<title>split9&#45;&gt;leaf10</title>\n<path fill=\"none\" stroke=\"#000000\" d=\"M864.96,-108.2348C914.433,-92.0921 980.3546,-70.5823 1031.9925,-53.7332\"/>\n<polygon fill=\"#000000\" stroke=\"#000000\" points=\"1033.3694,-56.9657 1041.7904,-50.5363 1031.1979,-50.3109 1033.3694,-56.9657\"/>\n<text text-anchor=\"middle\" x=\"977.8209\" y=\"-75.5401\" font-family=\"Times,serif\" font-size=\"14.00\" fill=\"#000000\">&gt;</text>\n</g>\n<!-- leaf5 -->\n<g id=\"node13\" class=\"node\">\n<title>leaf5</title>\n<ellipse fill=\"none\" stroke=\"#000000\" cx=\"1104.3209\" cy=\"-131.6102\" rx=\"151.1419\" ry=\"26.7407\"/>\n<text text-anchor=\"middle\" x=\"1104.3209\" y=\"-135.4102\" font-family=\"Times,serif\" font-size=\"14.00\" fill=\"#000000\">leaf_index: 5</text>\n<text text-anchor=\"middle\" x=\"1104.3209\" y=\"-120.4102\" font-family=\"Times,serif\" font-size=\"14.00\" fill=\"#000000\">leaf_value: 1.5203571430274418</text>\n</g>\n<!-- split10&#45;&gt;leaf5 -->\n<g id=\"edge8\" class=\"edge\">\n<title>split10&#45;&gt;leaf5</title>\n<path fill=\"none\" stroke=\"#000000\" d=\"M1105.0633,-209.3771C1104.9455,-197.0377 1104.804,-182.2162 1104.6763,-168.8373\"/>\n<polygon fill=\"#000000\" stroke=\"#000000\" points=\"1108.1729,-168.458 1104.5775,-158.4919 1101.1732,-168.5249 1108.1729,-168.458\"/>\n<text text-anchor=\"middle\" x=\"1113.8209\" y=\"-180.2802\" font-family=\"Times,serif\" font-size=\"14.00\" fill=\"#000000\">&lt;=</text>\n</g>\n<!-- leaf11 -->\n<g id=\"node14\" class=\"node\">\n<title>leaf11</title>\n<ellipse fill=\"none\" stroke=\"#000000\" cx=\"1425.3209\" cy=\"-131.6102\" rx=\"151.1419\" ry=\"26.7407\"/>\n<text text-anchor=\"middle\" x=\"1425.3209\" y=\"-135.4102\" font-family=\"Times,serif\" font-size=\"14.00\" fill=\"#000000\">leaf_index: 11</text>\n<text text-anchor=\"middle\" x=\"1425.3209\" y=\"-120.4102\" font-family=\"Times,serif\" font-size=\"14.00\" fill=\"#000000\">leaf_value: 1.5303571430274419</text>\n</g>\n<!-- split10&#45;&gt;leaf11 -->\n<g id=\"edge9\" class=\"edge\">\n<title>split10&#45;&gt;leaf11</title>\n<path fill=\"none\" stroke=\"#000000\" d=\"M1177.1351,-212.8446C1226.386,-196.7241 1291.8488,-175.2973 1343.1766,-158.497\"/>\n<polygon fill=\"#000000\" stroke=\"#000000\" points=\"1344.5013,-161.7462 1352.9164,-155.3091 1342.3238,-155.0935 1344.5013,-161.7462\"/>\n<text text-anchor=\"middle\" x=\"1289.8209\" y=\"-180.2802\" font-family=\"Times,serif\" font-size=\"14.00\" fill=\"#000000\">&gt;</text>\n</g>\n<!-- split6 -->\n<g id=\"node17\" class=\"node\">\n<title>split6</title>\n<ellipse fill=\"none\" stroke=\"#000000\" cx=\"1582.3209\" cy=\"-341.0904\" rx=\"147.5709\" ry=\"26.7407\"/>\n<text text-anchor=\"middle\" x=\"1582.3209\" y=\"-344.8904\" font-family=\"Times,serif\" font-size=\"14.00\" fill=\"#000000\">split_feature_name: debut_age</text>\n<text text-anchor=\"middle\" x=\"1582.3209\" y=\"-329.8904\" font-family=\"Times,serif\" font-size=\"14.00\" fill=\"#000000\">threshold: 21.000000000000004</text>\n</g>\n<!-- split5&#45;&gt;split6 -->\n<g id=\"edge16\" class=\"edge\">\n<title>split5&#45;&gt;split6</title>\n<path fill=\"none\" stroke=\"#000000\" d=\"M1666.0585,-419.4002C1651.4677,-405.7552 1633.516,-388.9671 1617.981,-374.439\"/>\n<polygon fill=\"#000000\" stroke=\"#000000\" points=\"1620.2686,-371.7864 1610.5741,-367.5123 1615.4873,-376.8991 1620.2686,-371.7864\"/>\n<text text-anchor=\"middle\" x=\"1653.8209\" y=\"-389.7605\" font-family=\"Times,serif\" font-size=\"14.00\" fill=\"#000000\">&lt;=</text>\n</g>\n<!-- leaf6 -->\n<g id=\"node20\" class=\"node\">\n<title>leaf6</title>\n<ellipse fill=\"none\" stroke=\"#000000\" cx=\"1899.3209\" cy=\"-341.0904\" rx=\"151.1419\" ry=\"26.7407\"/>\n<text text-anchor=\"middle\" x=\"1899.3209\" y=\"-344.8904\" font-family=\"Times,serif\" font-size=\"14.00\" fill=\"#000000\">leaf_index: 6</text>\n<text text-anchor=\"middle\" x=\"1899.3209\" y=\"-329.8904\" font-family=\"Times,serif\" font-size=\"14.00\" fill=\"#000000\">leaf_value: 1.5403571427294187</text>\n</g>\n<!-- split5&#45;&gt;leaf6 -->\n<g id=\"edge17\" class=\"edge\">\n<title>split5&#45;&gt;leaf6</title>\n<path fill=\"none\" stroke=\"#000000\" d=\"M1743.9456,-420.4759C1772.9403,-405.6617 1809.7082,-386.8759 1840.1975,-371.2982\"/>\n<polygon fill=\"#000000\" stroke=\"#000000\" points=\"1842.13,-374.2412 1849.4425,-366.5746 1838.9451,-368.0077 1842.13,-374.2412\"/>\n<text text-anchor=\"middle\" x=\"1813.8209\" y=\"-389.7605\" font-family=\"Times,serif\" font-size=\"14.00\" fill=\"#000000\">&gt;</text>\n</g>\n<!-- leaf3 -->\n<g id=\"node18\" class=\"node\">\n<title>leaf3</title>\n<ellipse fill=\"none\" stroke=\"#000000\" cx=\"1502.3209\" cy=\"-236.3503\" rx=\"151.1419\" ry=\"26.7407\"/>\n<text text-anchor=\"middle\" x=\"1502.3209\" y=\"-240.1503\" font-family=\"Times,serif\" font-size=\"14.00\" fill=\"#000000\">leaf_index: 3</text>\n<text text-anchor=\"middle\" x=\"1502.3209\" y=\"-225.1503\" font-family=\"Times,serif\" font-size=\"14.00\" fill=\"#000000\">leaf_value: 1.5203571430274418</text>\n</g>\n<!-- split6&#45;&gt;leaf3 -->\n<g id=\"edge14\" class=\"edge\">\n<title>split6&#45;&gt;leaf3</title>\n<path fill=\"none\" stroke=\"#000000\" d=\"M1561.9265,-314.389C1551.865,-301.216 1539.6048,-285.1643 1528.8256,-271.0517\"/>\n<polygon fill=\"#000000\" stroke=\"#000000\" points=\"1531.5294,-268.8255 1522.678,-263.0029 1525.9665,-273.0745 1531.5294,-268.8255\"/>\n<text text-anchor=\"middle\" x=\"1555.8209\" y=\"-285.0203\" font-family=\"Times,serif\" font-size=\"14.00\" fill=\"#000000\">&lt;=</text>\n</g>\n<!-- leaf7 -->\n<g id=\"node19\" class=\"node\">\n<title>leaf7</title>\n<ellipse fill=\"none\" stroke=\"#000000\" cx=\"1823.3209\" cy=\"-236.3503\" rx=\"151.1419\" ry=\"26.7407\"/>\n<text text-anchor=\"middle\" x=\"1823.3209\" y=\"-240.1503\" font-family=\"Times,serif\" font-size=\"14.00\" fill=\"#000000\">leaf_index: 7</text>\n<text text-anchor=\"middle\" x=\"1823.3209\" y=\"-225.1503\" font-family=\"Times,serif\" font-size=\"14.00\" fill=\"#000000\">leaf_value: 1.5303571430274419</text>\n</g>\n<!-- split6&#45;&gt;leaf7 -->\n<g id=\"edge15\" class=\"edge\">\n<title>split6&#45;&gt;leaf7</title>\n<path fill=\"none\" stroke=\"#000000\" d=\"M1639.4345,-316.2685C1674.4449,-301.0527 1719.435,-281.4998 1756.1504,-265.543\"/>\n<polygon fill=\"#000000\" stroke=\"#000000\" points=\"1758.0058,-268.553 1765.782,-261.357 1755.2156,-262.133 1758.0058,-268.553\"/>\n<text text-anchor=\"middle\" x=\"1721.8209\" y=\"-285.0203\" font-family=\"Times,serif\" font-size=\"14.00\" fill=\"#000000\">&gt;</text>\n</g>\n<!-- split7 -->\n<g id=\"node22\" class=\"node\">\n<title>split7</title>\n<ellipse fill=\"none\" stroke=\"#000000\" cx=\"2370.3209\" cy=\"-445.8305\" rx=\"142.257\" ry=\"26.7407\"/>\n<text text-anchor=\"middle\" x=\"2370.3209\" y=\"-449.6305\" font-family=\"Times,serif\" font-size=\"14.00\" fill=\"#000000\">split_feature_name: age</text>\n<text text-anchor=\"middle\" x=\"2370.3209\" y=\"-434.6305\" font-family=\"Times,serif\" font-size=\"14.00\" fill=\"#000000\">threshold: 47.00000000000001</text>\n</g>\n<!-- split1&#45;&gt;split7 -->\n<g id=\"edge22\" class=\"edge\">\n<title>split1&#45;&gt;split7</title>\n<path fill=\"none\" stroke=\"#000000\" d=\"M2370.3209,-523.5975C2370.3209,-511.258 2370.3209,-496.4365 2370.3209,-483.0577\"/>\n<polygon fill=\"#000000\" stroke=\"#000000\" points=\"2373.8209,-482.7123 2370.3209,-472.7123 2366.8209,-482.7123 2373.8209,-482.7123\"/>\n<text text-anchor=\"middle\" x=\"2378.8209\" y=\"-494.5006\" font-family=\"Times,serif\" font-size=\"14.00\" fill=\"#000000\">&lt;=</text>\n</g>\n<!-- split11 -->\n<g id=\"node25\" class=\"node\">\n<title>split11</title>\n<ellipse fill=\"none\" stroke=\"#000000\" cx=\"2862.3209\" cy=\"-445.8305\" rx=\"147.5709\" ry=\"26.7407\"/>\n<text text-anchor=\"middle\" x=\"2862.3209\" y=\"-449.6305\" font-family=\"Times,serif\" font-size=\"14.00\" fill=\"#000000\">split_feature_name: age</text>\n<text text-anchor=\"middle\" x=\"2862.3209\" y=\"-434.6305\" font-family=\"Times,serif\" font-size=\"14.00\" fill=\"#000000\">threshold: 31.500000000000004</text>\n</g>\n<!-- split1&#45;&gt;split11 -->\n<g id=\"edge25\" class=\"edge\">\n<title>split1&#45;&gt;split11</title>\n<path fill=\"none\" stroke=\"#000000\" d=\"M2466.3514,-530.127C2549.6913,-512.3851 2670.1655,-486.7378 2756.3102,-468.3987\"/>\n<polygon fill=\"#000000\" stroke=\"#000000\" points=\"2757.0611,-471.8174 2766.1131,-466.3118 2755.6035,-464.9708 2757.0611,-471.8174\"/>\n<text text-anchor=\"middle\" x=\"2650.8209\" y=\"-494.5006\" font-family=\"Times,serif\" font-size=\"14.00\" fill=\"#000000\">&gt;</text>\n</g>\n<!-- leaf1 -->\n<g id=\"node23\" class=\"node\">\n<title>leaf1</title>\n<ellipse fill=\"none\" stroke=\"#000000\" cx=\"2220.3209\" cy=\"-341.0904\" rx=\"151.1419\" ry=\"26.7407\"/>\n<text text-anchor=\"middle\" x=\"2220.3209\" y=\"-344.8904\" font-family=\"Times,serif\" font-size=\"14.00\" fill=\"#000000\">leaf_index: 1</text>\n<text text-anchor=\"middle\" x=\"2220.3209\" y=\"-329.8904\" font-family=\"Times,serif\" font-size=\"14.00\" fill=\"#000000\">leaf_value: 1.5903571442195348</text>\n</g>\n<!-- split7&#45;&gt;leaf1 -->\n<g id=\"edge20\" class=\"edge\">\n<title>split7&#45;&gt;leaf1</title>\n<path fill=\"none\" stroke=\"#000000\" d=\"M2332.8565,-419.6703C2312.6324,-405.5485 2287.5021,-388.0009 2266.1229,-373.0724\"/>\n<polygon fill=\"#000000\" stroke=\"#000000\" points=\"2268.0303,-370.1356 2257.8275,-367.2801 2264.0227,-375.8749 2268.0303,-370.1356\"/>\n<text text-anchor=\"middle\" x=\"2312.8209\" y=\"-389.7605\" font-family=\"Times,serif\" font-size=\"14.00\" fill=\"#000000\">&lt;=</text>\n</g>\n<!-- leaf8 -->\n<g id=\"node24\" class=\"node\">\n<title>leaf8</title>\n<ellipse fill=\"none\" stroke=\"#000000\" cx=\"2541.3209\" cy=\"-341.0904\" rx=\"151.1419\" ry=\"26.7407\"/>\n<text text-anchor=\"middle\" x=\"2541.3209\" y=\"-344.8904\" font-family=\"Times,serif\" font-size=\"14.00\" fill=\"#000000\">leaf_index: 8</text>\n<text text-anchor=\"middle\" x=\"2541.3209\" y=\"-329.8904\" font-family=\"Times,serif\" font-size=\"14.00\" fill=\"#000000\">leaf_value: 1.5803571442195348</text>\n</g>\n<!-- split7&#45;&gt;leaf8 -->\n<g id=\"edge21\" class=\"edge\">\n<title>split7&#45;&gt;leaf8</title>\n<path fill=\"none\" stroke=\"#000000\" d=\"M2412.5905,-419.9397C2436.1239,-405.5252 2465.5868,-387.4787 2490.3852,-372.2893\"/>\n<polygon fill=\"#000000\" stroke=\"#000000\" points=\"2492.2454,-375.2543 2498.9448,-367.0464 2488.5892,-369.285 2492.2454,-375.2543\"/>\n<text text-anchor=\"middle\" x=\"2470.8209\" y=\"-389.7605\" font-family=\"Times,serif\" font-size=\"14.00\" fill=\"#000000\">&gt;</text>\n</g>\n<!-- leaf2 -->\n<g id=\"node26\" class=\"node\">\n<title>leaf2</title>\n<ellipse fill=\"none\" stroke=\"#000000\" cx=\"2862.3209\" cy=\"-341.0904\" rx=\"151.1419\" ry=\"26.7407\"/>\n<text text-anchor=\"middle\" x=\"2862.3209\" y=\"-344.8904\" font-family=\"Times,serif\" font-size=\"14.00\" fill=\"#000000\">leaf_index: 2</text>\n<text text-anchor=\"middle\" x=\"2862.3209\" y=\"-329.8904\" font-family=\"Times,serif\" font-size=\"14.00\" fill=\"#000000\">leaf_value: 1.5503571430274419</text>\n</g>\n<!-- split11&#45;&gt;leaf2 -->\n<g id=\"edge23\" class=\"edge\">\n<title>split11&#45;&gt;leaf2</title>\n<path fill=\"none\" stroke=\"#000000\" d=\"M2862.3209,-418.8573C2862.3209,-406.5179 2862.3209,-391.6964 2862.3209,-378.3175\"/>\n<polygon fill=\"#000000\" stroke=\"#000000\" points=\"2865.8209,-377.9721 2862.3209,-367.9722 2858.8209,-377.9722 2865.8209,-377.9721\"/>\n<text text-anchor=\"middle\" x=\"2870.8209\" y=\"-389.7605\" font-family=\"Times,serif\" font-size=\"14.00\" fill=\"#000000\">&lt;=</text>\n</g>\n<!-- leaf12 -->\n<g id=\"node27\" class=\"node\">\n<title>leaf12</title>\n<ellipse fill=\"none\" stroke=\"#000000\" cx=\"3177.3209\" cy=\"-341.0904\" rx=\"145.8282\" ry=\"26.7407\"/>\n<text text-anchor=\"middle\" x=\"3177.3209\" y=\"-344.8904\" font-family=\"Times,serif\" font-size=\"14.00\" fill=\"#000000\">leaf_index: 12</text>\n<text text-anchor=\"middle\" x=\"3177.3209\" y=\"-329.8904\" font-family=\"Times,serif\" font-size=\"14.00\" fill=\"#000000\">leaf_value: 1.560357141835349</text>\n</g>\n<!-- split11&#45;&gt;leaf12 -->\n<g id=\"edge24\" class=\"edge\">\n<title>split11&#45;&gt;leaf12</title>\n<path fill=\"none\" stroke=\"#000000\" d=\"M2933.4058,-422.1942C2981.9898,-406.0396 3046.463,-384.6017 3096.9212,-367.8239\"/>\n<polygon fill=\"#000000\" stroke=\"#000000\" points=\"3098.1097,-371.1173 3106.4945,-364.6407 3095.901,-364.4748 3098.1097,-371.1173\"/>\n<text text-anchor=\"middle\" x=\"3043.8209\" y=\"-389.7605\" font-family=\"Times,serif\" font-size=\"14.00\" fill=\"#000000\">&gt;</text>\n</g>\n</g>\n</svg>\n"
          },
          "metadata": {
            "tags": []
          },
          "execution_count": 14
        }
      ]
    },
    {
      "cell_type": "code",
      "metadata": {
        "id": "GCMUhApEgIt7",
        "colab_type": "code",
        "colab": {}
      },
      "source": [
        "from sklearn.linear_model import LinearRegression\n",
        "reg = LinearRegression()\n",
        "reg.fit(train_x, train_y)\n",
        "lr_pred = reg.predict(test_x)"
      ],
      "execution_count": 0,
      "outputs": []
    },
    {
      "cell_type": "code",
      "metadata": {
        "id": "ZBRAkYph_KdJ",
        "colab_type": "code",
        "colab": {
          "base_uri": "https://localhost:8080/",
          "height": 227
        },
        "outputId": "59cae0c9-d3fe-4c41-acce-9270cff290ae"
      },
      "source": [
        "'''結果表示'''\n",
        "display(pd.DataFrame(lr_pred, index=names, columns=['タイトル獲得数']))"
      ],
      "execution_count": 16,
      "outputs": [
        {
          "output_type": "display_data",
          "data": {
            "text/html": [
              "<div>\n",
              "<style scoped>\n",
              "    .dataframe tbody tr th:only-of-type {\n",
              "        vertical-align: middle;\n",
              "    }\n",
              "\n",
              "    .dataframe tbody tr th {\n",
              "        vertical-align: top;\n",
              "    }\n",
              "\n",
              "    .dataframe thead th {\n",
              "        text-align: right;\n",
              "    }\n",
              "</style>\n",
              "<table border=\"1\" class=\"dataframe\">\n",
              "  <thead>\n",
              "    <tr style=\"text-align: right;\">\n",
              "      <th></th>\n",
              "      <th>タイトル獲得数</th>\n",
              "    </tr>\n",
              "    <tr>\n",
              "      <th>name</th>\n",
              "      <th></th>\n",
              "    </tr>\n",
              "  </thead>\n",
              "  <tbody>\n",
              "    <tr>\n",
              "      <th>藤井聡太</th>\n",
              "      <td>4.389278</td>\n",
              "    </tr>\n",
              "    <tr>\n",
              "      <th>佐々木勇気</th>\n",
              "      <td>0.888305</td>\n",
              "    </tr>\n",
              "    <tr>\n",
              "      <th>増田康宏</th>\n",
              "      <td>1.353502</td>\n",
              "    </tr>\n",
              "    <tr>\n",
              "      <th>青嶋未来</th>\n",
              "      <td>-0.755197</td>\n",
              "    </tr>\n",
              "    <tr>\n",
              "      <th>佐々木大地</th>\n",
              "      <td>0.736462</td>\n",
              "    </tr>\n",
              "  </tbody>\n",
              "</table>\n",
              "</div>"
            ],
            "text/plain": [
              "        タイトル獲得数\n",
              "name           \n",
              "藤井聡太   4.389278\n",
              "佐々木勇気  0.888305\n",
              "増田康宏   1.353502\n",
              "青嶋未来  -0.755197\n",
              "佐々木大地  0.736462"
            ]
          },
          "metadata": {
            "tags": []
          }
        }
      ]
    },
    {
      "cell_type": "code",
      "metadata": {
        "id": "k52LKJFYhPTI",
        "colab_type": "code",
        "outputId": "b2b60765-7508-4368-e456-d776bdd9577f",
        "colab": {
          "base_uri": "https://localhost:8080/",
          "height": 334
        }
      },
      "source": [
        "display(pd.DataFrame(reg.coef_, index=features.columns, columns=['coef']))\n",
        "print('intercept = {}'.format(reg.intercept_))"
      ],
      "execution_count": 17,
      "outputs": [
        {
          "output_type": "display_data",
          "data": {
            "text/html": [
              "<div>\n",
              "<style scoped>\n",
              "    .dataframe tbody tr th:only-of-type {\n",
              "        vertical-align: middle;\n",
              "    }\n",
              "\n",
              "    .dataframe tbody tr th {\n",
              "        vertical-align: top;\n",
              "    }\n",
              "\n",
              "    .dataframe thead th {\n",
              "        text-align: right;\n",
              "    }\n",
              "</style>\n",
              "<table border=\"1\" class=\"dataframe\">\n",
              "  <thead>\n",
              "    <tr style=\"text-align: right;\">\n",
              "      <th></th>\n",
              "      <th>coef</th>\n",
              "    </tr>\n",
              "  </thead>\n",
              "  <tbody>\n",
              "    <tr>\n",
              "      <th>age</th>\n",
              "      <td>-0.007417</td>\n",
              "    </tr>\n",
              "    <tr>\n",
              "      <th>debut age</th>\n",
              "      <td>-0.121117</td>\n",
              "    </tr>\n",
              "    <tr>\n",
              "      <th>juni-sen</th>\n",
              "      <td>-0.037535</td>\n",
              "    </tr>\n",
              "    <tr>\n",
              "      <th>ryuo-sen</th>\n",
              "      <td>0.098913</td>\n",
              "    </tr>\n",
              "    <tr>\n",
              "      <th>oui-league</th>\n",
              "      <td>0.260973</td>\n",
              "    </tr>\n",
              "    <tr>\n",
              "      <th>osho-league</th>\n",
              "      <td>0.419284</td>\n",
              "    </tr>\n",
              "    <tr>\n",
              "      <th>wins</th>\n",
              "      <td>0.052264</td>\n",
              "    </tr>\n",
              "    <tr>\n",
              "      <th>games</th>\n",
              "      <td>-0.029559</td>\n",
              "    </tr>\n",
              "    <tr>\n",
              "      <th>champions</th>\n",
              "      <td>0.457157</td>\n",
              "    </tr>\n",
              "  </tbody>\n",
              "</table>\n",
              "</div>"
            ],
            "text/plain": [
              "                 coef\n",
              "age         -0.007417\n",
              "debut age   -0.121117\n",
              "juni-sen    -0.037535\n",
              "ryuo-sen     0.098913\n",
              "oui-league   0.260973\n",
              "osho-league  0.419284\n",
              "wins         0.052264\n",
              "games       -0.029559\n",
              "champions    0.457157"
            ]
          },
          "metadata": {
            "tags": []
          }
        },
        {
          "output_type": "stream",
          "text": [
            "intercept = 1.6695610021442517\n"
          ],
          "name": "stdout"
        }
      ]
    },
    {
      "cell_type": "code",
      "metadata": {
        "id": "3C0xbQDxiaqh",
        "colab_type": "code",
        "outputId": "6ae40bfc-69ac-4d84-ed94-44573d0dbf54",
        "colab": {
          "base_uri": "https://localhost:8080/",
          "height": 50
        }
      },
      "source": [
        "from sklearn.neural_network import MLPRegressor\n",
        "nn = MLPRegressor()\n",
        "nn.fit(train_x, train_y)\n",
        "nn_pred = nn.predict(test_x)"
      ],
      "execution_count": 18,
      "outputs": [
        {
          "output_type": "stream",
          "text": [
            "/usr/local/lib/python3.6/dist-packages/sklearn/neural_network/_multilayer_perceptron.py:571: ConvergenceWarning: Stochastic Optimizer: Maximum iterations (200) reached and the optimization hasn't converged yet.\n",
            "  % self.max_iter, ConvergenceWarning)\n"
          ],
          "name": "stderr"
        }
      ]
    },
    {
      "cell_type": "code",
      "metadata": {
        "id": "5UyD4PozinaI",
        "colab_type": "code",
        "colab": {
          "base_uri": "https://localhost:8080/",
          "height": 227
        },
        "outputId": "2c97d6e4-1c93-4ed3-928a-aa3887b17b9d"
      },
      "source": [
        "'''結果表示'''\n",
        "display(pd.DataFrame(nn_pred, index=names, columns=['タイトル獲得数']))"
      ],
      "execution_count": 19,
      "outputs": [
        {
          "output_type": "display_data",
          "data": {
            "text/html": [
              "<div>\n",
              "<style scoped>\n",
              "    .dataframe tbody tr th:only-of-type {\n",
              "        vertical-align: middle;\n",
              "    }\n",
              "\n",
              "    .dataframe tbody tr th {\n",
              "        vertical-align: top;\n",
              "    }\n",
              "\n",
              "    .dataframe thead th {\n",
              "        text-align: right;\n",
              "    }\n",
              "</style>\n",
              "<table border=\"1\" class=\"dataframe\">\n",
              "  <thead>\n",
              "    <tr style=\"text-align: right;\">\n",
              "      <th></th>\n",
              "      <th>タイトル獲得数</th>\n",
              "    </tr>\n",
              "    <tr>\n",
              "      <th>name</th>\n",
              "      <th></th>\n",
              "    </tr>\n",
              "  </thead>\n",
              "  <tbody>\n",
              "    <tr>\n",
              "      <th>藤井聡太</th>\n",
              "      <td>4.414906</td>\n",
              "    </tr>\n",
              "    <tr>\n",
              "      <th>佐々木勇気</th>\n",
              "      <td>0.506935</td>\n",
              "    </tr>\n",
              "    <tr>\n",
              "      <th>増田康宏</th>\n",
              "      <td>0.674503</td>\n",
              "    </tr>\n",
              "    <tr>\n",
              "      <th>青嶋未来</th>\n",
              "      <td>0.668381</td>\n",
              "    </tr>\n",
              "    <tr>\n",
              "      <th>佐々木大地</th>\n",
              "      <td>-0.058010</td>\n",
              "    </tr>\n",
              "  </tbody>\n",
              "</table>\n",
              "</div>"
            ],
            "text/plain": [
              "        タイトル獲得数\n",
              "name           \n",
              "藤井聡太   4.414906\n",
              "佐々木勇気  0.506935\n",
              "増田康宏   0.674503\n",
              "青嶋未来   0.668381\n",
              "佐々木大地 -0.058010"
            ]
          },
          "metadata": {
            "tags": []
          }
        }
      ]
    },
    {
      "cell_type": "code",
      "metadata": {
        "id": "O6gEUeWr_gaW",
        "colab_type": "code",
        "colab": {}
      },
      "source": [
        ""
      ],
      "execution_count": 0,
      "outputs": []
    }
  ]
}